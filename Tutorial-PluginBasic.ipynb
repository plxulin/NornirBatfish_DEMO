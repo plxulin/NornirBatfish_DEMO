{
 "metadata": {
  "language_info": {
   "codemirror_mode": {
    "name": "ipython",
    "version": 3
   },
   "file_extension": ".py",
   "mimetype": "text/x-python",
   "name": "python",
   "nbconvert_exporter": "python",
   "pygments_lexer": "ipython3",
   "version": "3.9.1-final"
  },
  "orig_nbformat": 2,
  "kernelspec": {
   "name": "python3",
   "display_name": "Python 3.9.1 64-bit ('venv')",
   "metadata": {
    "interpreter": {
     "hash": "a27f1532f33c03b752c38f72062f5f787ab567fd83fceee2c04cc6bf75edd4e2"
    }
   }
  }
 },
 "nbformat": 4,
 "nbformat_minor": 2,
 "cells": [
  {
   "source": [
    "# Netmiko\n",
    "---\n",
    "API DOC: https://ktbyers.github.io/netmiko/docs/netmiko/index.html\n",
    "\n",
    "\n",
    "\n",
    "## installation\n",
    "```bash\n",
    "pip install netmiko\n",
    "```\n",
    "\n",
    "## Init"
   ],
   "cell_type": "markdown",
   "metadata": {}
  },
  {
   "cell_type": "code",
   "execution_count": 1,
   "metadata": {},
   "outputs": [],
   "source": [
    "from netmiko import ConnectHandler\n",
    "\n",
    "# Just pick an 'invalid' device_type\n",
    "cisco1 = {\n",
    "    \"device_type\": \"cisco_ios\",\n",
    "    \"host\": \"10.0.137.14\",\n",
    "    \"username\": \"admin\",\n",
    "    \"password\": \"Cisco!123\",\n",
    "    \"ssh_config_file\": \"~/.ssh/config\"\n",
    "}\n",
    "\n",
    "net_connect = ConnectHandler(**cisco1)\n",
    "net_connect.disconnect()"
   ]
  },
  {
   "cell_type": "code",
   "execution_count": 2,
   "metadata": {},
   "outputs": [
    {
     "output_type": "execute_result",
     "data": {
      "text/plain": [
       "''"
      ]
     },
     "metadata": {},
     "execution_count": 2
    }
   ],
   "source": [
    "## establish connection\n",
    "net_connect.establish_connection()"
   ]
  },
  {
   "source": [
    "## Common method"
   ],
   "cell_type": "markdown",
   "metadata": {}
  },
  {
   "cell_type": "code",
   "execution_count": 3,
   "metadata": {},
   "outputs": [
    {
     "output_type": "execute_result",
     "data": {
      "text/plain": [
       "True"
      ]
     },
     "metadata": {},
     "execution_count": 3
    }
   ],
   "source": [
    "#  check alive\n",
    "net_connect.is_alive()"
   ]
  },
  {
   "cell_type": "code",
   "execution_count": 4,
   "metadata": {},
   "outputs": [
    {
     "output_type": "stream",
     "name": "stdout",
     "text": [
      "True & False\n"
     ]
    }
   ],
   "source": [
    "print(f\"{net_connect.check_enable_mode()} & {net_connect.check_config_mode()}\")"
   ]
  },
  {
   "cell_type": "code",
   "execution_count": 5,
   "metadata": {},
   "outputs": [
    {
     "output_type": "stream",
     "name": "stdout",
     "text": [
      "BGP router identifier 2.1.1.2, local AS number 2\nBGP table version is 9, main routing table version 9\n3 network entries using 420 bytes of memory\n7 path entries using 560 bytes of memory\n3/2 BGP path/bestpath attribute entries using 432 bytes of memory\n4 BGP rrinfo entries using 96 bytes of memory\n1 BGP AS-PATH entries using 24 bytes of memory\n1 BGP community entries using 24 bytes of memory\n0 BGP route-map cache entries using 0 bytes of memory\n0 BGP filter-list cache entries using 0 bytes of memory\nBGP using 1556 total bytes of memory\nDampening enabled. 0 history paths, 0 dampened paths\nBGP activity 3/0 prefixes, 7/0 paths, scan interval 60 secs\n\nNeighbor        V           AS MsgRcvd MsgSent   TblVer  InQ OutQ Up/Down  State/PfxRcd\n2.1.2.1         4            2     403     399        9    0    0 05:57:47        3\n2.1.2.2         4            2     401     396        9    0    0 05:57:36        3\n"
     ]
    }
   ],
   "source": [
    "result = net_connect.send_command('show ip bgp summary')\n",
    "print(result)"
   ]
  },
  {
   "cell_type": "code",
   "execution_count": 6,
   "metadata": {},
   "outputs": [
    {
     "output_type": "stream",
     "name": "stdout",
     "text": [
      "configure terminal\nEnter configuration commands, one per line.  End with CNTL/Z.\nBR2(config)#no ip domain look\nBR2(config)#end\nBR2#\n"
     ]
    }
   ],
   "source": [
    "result = net_connect.send_config_set('no ip domain look')\n",
    "print(result)"
   ]
  },
  {
   "cell_type": "code",
   "execution_count": 7,
   "metadata": {},
   "outputs": [
    {
     "output_type": "stream",
     "name": "stdout",
     "text": [
      "write mem\nBuilding configuration...\n[OK]\nBR2#\n"
     ]
    }
   ],
   "source": [
    "result = net_connect.save_config()\n",
    "print(result)"
   ]
  },
  {
   "source": [
    "# Napalm\n",
    "---\n",
    "\n",
    "API doc :\n",
    "- https://napalm.readthedocs.io/en/latest/support/index.html\n",
    "- https://napalm.readthedocs.io/en/latest/base.html#\n",
    "\n",
    "## Installation\n",
    "```bash\n",
    "pip install napalm\n",
    "```\n",
    "\n",
    "## Init"
   ],
   "cell_type": "markdown",
   "metadata": {}
  },
  {
   "cell_type": "code",
   "execution_count": 8,
   "metadata": {},
   "outputs": [],
   "source": [
    "from napalm import get_network_driver\n",
    "from pprint import pprint\n",
    "driver = get_network_driver('ios')\n",
    "optional_args = {\n",
    "    'secret': 'Cisco!123', \n",
    "    'ssh_config_file': '~/.ssh/config'}\n",
    "device = driver('10.0.137.14', 'admin', 'Cisco!123', optional_args=optional_args)\n",
    "device.close()\n"
   ]
  },
  {
   "cell_type": "code",
   "execution_count": 9,
   "metadata": {},
   "outputs": [],
   "source": [
    "device.open()"
   ]
  },
  {
   "source": [
    "## Common method"
   ],
   "cell_type": "markdown",
   "metadata": {}
  },
  {
   "cell_type": "code",
   "execution_count": 10,
   "metadata": {},
   "outputs": [
    {
     "output_type": "execute_result",
     "data": {
      "text/plain": [
       "{'is_alive': True}"
      ]
     },
     "metadata": {},
     "execution_count": 10
    }
   ],
   "source": [
    "device.is_alive()"
   ]
  },
  {
   "cell_type": "code",
   "execution_count": 11,
   "metadata": {},
   "outputs": [
    {
     "output_type": "stream",
     "name": "stdout",
     "text": [
      "{'show ip bgp summary': 'BGP router identifier 2.1.1.2, local AS number 2\\n'\n                        'BGP table version is 9, main routing table version 9\\n'\n                        '3 network entries using 420 bytes of memory\\n'\n                        '7 path entries using 560 bytes of memory\\n'\n                        '3/2 BGP path/bestpath attribute entries using 432 '\n                        'bytes of memory\\n'\n                        '4 BGP rrinfo entries using 96 bytes of memory\\n'\n                        '1 BGP AS-PATH entries using 24 bytes of memory\\n'\n                        '1 BGP community entries using 24 bytes of memory\\n'\n                        '0 BGP route-map cache entries using 0 bytes of '\n                        'memory\\n'\n                        '0 BGP filter-list cache entries using 0 bytes of '\n                        'memory\\n'\n                        'BGP using 1556 total bytes of memory\\n'\n                        'Dampening enabled. 0 history paths, 0 dampened paths\\n'\n                        'BGP activity 3/0 prefixes, 7/0 paths, scan interval '\n                        '60 secs\\n'\n                        '\\n'\n                        'Neighbor        V           AS MsgRcvd MsgSent   '\n                        'TblVer  InQ OutQ Up/Down  State/PfxRcd\\n'\n                        '2.1.2.1         4            2     404     400        '\n                        '9    0    0 05:58:05        3\\n'\n                        '2.1.2.2         4            2     401     397        '\n                        '9    0    0 05:57:54        3'}\n"
     ]
    }
   ],
   "source": [
    "result = device.cli(['show ip bgp summary'])\n",
    "pprint(result)"
   ]
  },
  {
   "cell_type": "code",
   "execution_count": 12,
   "metadata": {},
   "outputs": [
    {
     "output_type": "stream",
     "name": "stdout",
     "text": [
      "{'global': {'peers': {'2.1.2.1': {'address_family': {'ipv4 unicast': {'accepted_prefixes': 3,\n                                                                      'received_prefixes': 3,\n                                                                      'sent_prefixes': 1}},\n                                  'description': '',\n                                  'is_enabled': True,\n                                  'is_up': True,\n                                  'local_as': 2,\n                                  'remote_as': 2,\n                                  'remote_id': '2.1.2.1',\n                                  'uptime': 21491},\n                      '2.1.2.2': {'address_family': {'ipv4 unicast': {'accepted_prefixes': 3,\n                                                                      'received_prefixes': 3,\n                                                                      'sent_prefixes': 1}},\n                                  'description': '',\n                                  'is_enabled': True,\n                                  'is_up': True,\n                                  'local_as': 2,\n                                  'remote_as': 2,\n                                  'remote_id': '2.1.2.2',\n                                  'uptime': 21480}},\n            'router_id': '2.1.1.2'}}\n"
     ]
    }
   ],
   "source": [
    "result = device.get_bgp_neighbors()\n",
    "pprint(result)"
   ]
  },
  {
   "cell_type": "code",
   "execution_count": 13,
   "metadata": {},
   "outputs": [
    {
     "output_type": "stream",
     "name": "stdout",
     "text": [
      "{'Ethernet0/0': {'rx_broadcast_packets': 13118,\n                 'rx_discards': 4,\n                 'rx_errors': 0,\n                 'rx_multicast_packets': 0,\n                 'rx_octets': 1080406,\n                 'rx_unicast_packets': 15850,\n                 'tx_broadcast_packets': -1,\n                 'tx_discards': 0,\n                 'tx_errors': 0,\n                 'tx_multicast_packets': -1,\n                 'tx_octets': 829065,\n                 'tx_unicast_packets': 6590},\n 'Ethernet0/1': {'rx_broadcast_packets': 15291,\n                 'rx_discards': 0,\n                 'rx_errors': 0,\n                 'rx_multicast_packets': 0,\n                 'rx_octets': 1057964,\n                 'rx_unicast_packets': 15291,\n                 'tx_broadcast_packets': -1,\n                 'tx_discards': 0,\n                 'tx_errors': 0,\n                 'tx_multicast_packets': -1,\n                 'tx_octets': 1178552,\n                 'tx_unicast_packets': 17482},\n 'Ethernet0/2': {'rx_broadcast_packets': 3998,\n                 'rx_discards': 0,\n                 'rx_errors': 0,\n                 'rx_multicast_packets': 0,\n                 'rx_octets': 511096,\n                 'rx_unicast_packets': 4798,\n                 'tx_broadcast_packets': -1,\n                 'tx_discards': 0,\n                 'tx_errors': 0,\n                 'tx_multicast_packets': -1,\n                 'tx_octets': 641984,\n                 'tx_unicast_packets': 6996},\n 'Ethernet0/3': {'rx_broadcast_packets': 3997,\n                 'rx_discards': 0,\n                 'rx_errors': 0,\n                 'rx_multicast_packets': 0,\n                 'rx_octets': 511155,\n                 'rx_unicast_packets': 4806,\n                 'tx_broadcast_packets': -1,\n                 'tx_discards': 0,\n                 'tx_errors': 0,\n                 'tx_multicast_packets': -1,\n                 'tx_octets': 636365,\n                 'tx_unicast_packets': 6950},\n 'Ethernet1/0': {'rx_broadcast_packets': 0,\n                 'rx_discards': 0,\n                 'rx_errors': 0,\n                 'rx_multicast_packets': 0,\n                 'rx_octets': 0,\n                 'rx_unicast_packets': 0,\n                 'tx_broadcast_packets': -1,\n                 'tx_discards': 0,\n                 'tx_errors': 0,\n                 'tx_multicast_packets': -1,\n                 'tx_octets': 635596,\n                 'tx_unicast_packets': 4682},\n 'Ethernet1/1': {'rx_broadcast_packets': 0,\n                 'rx_discards': 0,\n                 'rx_errors': 0,\n                 'rx_multicast_packets': 0,\n                 'rx_octets': 0,\n                 'rx_unicast_packets': 0,\n                 'tx_broadcast_packets': -1,\n                 'tx_discards': 0,\n                 'tx_errors': 0,\n                 'tx_multicast_packets': -1,\n                 'tx_octets': 0,\n                 'tx_unicast_packets': 0},\n 'Ethernet1/2': {'rx_broadcast_packets': 0,\n                 'rx_discards': 0,\n                 'rx_errors': 0,\n                 'rx_multicast_packets': 0,\n                 'rx_octets': 0,\n                 'rx_unicast_packets': 0,\n                 'tx_broadcast_packets': -1,\n                 'tx_discards': 0,\n                 'tx_errors': 0,\n                 'tx_multicast_packets': -1,\n                 'tx_octets': 0,\n                 'tx_unicast_packets': 0},\n 'Ethernet1/3': {'rx_broadcast_packets': 0,\n                 'rx_discards': 0,\n                 'rx_errors': 0,\n                 'rx_multicast_packets': 0,\n                 'rx_octets': 0,\n                 'rx_unicast_packets': 0,\n                 'tx_broadcast_packets': -1,\n                 'tx_discards': 0,\n                 'tx_errors': 0,\n                 'tx_multicast_packets': -1,\n                 'tx_octets': 0,\n                 'tx_unicast_packets': 0},\n 'Ethernet2/0': {'rx_broadcast_packets': 0,\n                 'rx_discards': 0,\n                 'rx_errors': 0,\n                 'rx_multicast_packets': 0,\n                 'rx_octets': 0,\n                 'rx_unicast_packets': 0,\n                 'tx_broadcast_packets': -1,\n                 'tx_discards': 0,\n                 'tx_errors': 0,\n                 'tx_multicast_packets': -1,\n                 'tx_octets': 0,\n                 'tx_unicast_packets': 0},\n 'Ethernet2/1': {'rx_broadcast_packets': 0,\n                 'rx_discards': 0,\n                 'rx_errors': 0,\n                 'rx_multicast_packets': 0,\n                 'rx_octets': 0,\n                 'rx_unicast_packets': 0,\n                 'tx_broadcast_packets': -1,\n                 'tx_discards': 0,\n                 'tx_errors': 0,\n                 'tx_multicast_packets': -1,\n                 'tx_octets': 0,\n                 'tx_unicast_packets': 0},\n 'Ethernet2/2': {'rx_broadcast_packets': 0,\n                 'rx_discards': 0,\n                 'rx_errors': 0,\n                 'rx_multicast_packets': 0,\n                 'rx_octets': 0,\n                 'rx_unicast_packets': 0,\n                 'tx_broadcast_packets': -1,\n                 'tx_discards': 0,\n                 'tx_errors': 0,\n                 'tx_multicast_packets': -1,\n                 'tx_octets': 0,\n                 'tx_unicast_packets': 0},\n 'Ethernet2/3': {'rx_broadcast_packets': 0,\n                 'rx_discards': 0,\n                 'rx_errors': 0,\n                 'rx_multicast_packets': 0,\n                 'rx_octets': 0,\n                 'rx_unicast_packets': 0,\n                 'tx_broadcast_packets': -1,\n                 'tx_discards': 0,\n                 'tx_errors': 0,\n                 'tx_multicast_packets': -1,\n                 'tx_octets': 0,\n                 'tx_unicast_packets': 0},\n 'Loopback0': {'rx_broadcast_packets': 0,\n               'rx_discards': 0,\n               'rx_errors': 0,\n               'rx_multicast_packets': 0,\n               'rx_octets': 0,\n               'rx_unicast_packets': 0,\n               'tx_broadcast_packets': -1,\n               'tx_discards': 0,\n               'tx_errors': 0,\n               'tx_multicast_packets': -1,\n               'tx_octets': 46494,\n               'tx_unicast_packets': 984}}\n"
     ]
    }
   ],
   "source": [
    "result = device.get_interfaces_counters()\n",
    "pprint(result)"
   ]
  },
  {
   "cell_type": "code",
   "execution_count": 14,
   "metadata": {},
   "outputs": [],
   "source": [
    "device.close()"
   ]
  },
  {
   "source": [
    "## Configuration\n",
    "\n",
    "- load_replace_candidate\n",
    "- load_merge_candidate\n",
    "- compare_config\n",
    "- commit_config\n",
    "- discard_config"
   ],
   "cell_type": "markdown",
   "metadata": {}
  },
  {
   "cell_type": "code",
   "execution_count": 15,
   "metadata": {},
   "outputs": [
    {
     "output_type": "stream",
     "name": "stderr",
     "text": [
      "/home/kali/Documents/PYTHON_BASIC/Nornir3/venv/lib/python3.9/site-packages/urllib3/connectionpool.py:1013: InsecureRequestWarning: Unverified HTTPS request is being made to host 'sbx-nxos-mgmt.cisco.com'. Adding certificate verification is strongly advised. See: https://urllib3.readthedocs.io/en/latest/advanced-usage.html#ssl-warnings\n  warnings.warn(\n"
     ]
    }
   ],
   "source": [
    "from napalm import get_network_driver\n",
    "from pprint import pprint\n",
    "driver = get_network_driver('nxos')\n",
    "optional_args = {\n",
    "    \"ssl_verify\" : False, \n",
    "    }\n",
    "device = driver('sbx-nxos-mgmt.cisco.com', 'admin', 'Admin_1234!', optional_args=optional_args)\n",
    "device.open()\n"
   ]
  },
  {
   "cell_type": "code",
   "execution_count": 16,
   "metadata": {},
   "outputs": [
    {
     "output_type": "execute_result",
     "data": {
      "text/plain": [
       "{'is_alive': True}"
      ]
     },
     "metadata": {},
     "execution_count": 16
    }
   ],
   "source": [
    "device.is_alive()"
   ]
  },
  {
   "cell_type": "code",
   "execution_count": 17,
   "metadata": {},
   "outputs": [
    {
     "output_type": "stream",
     "name": "stderr",
     "text": [
      "/home/kali/Documents/PYTHON_BASIC/Nornir3/venv/lib/python3.9/site-packages/urllib3/connectionpool.py:1013: InsecureRequestWarning: Unverified HTTPS request is being made to host 'sbx-nxos-mgmt.cisco.com'. Adding certificate verification is strongly advised. See: https://urllib3.readthedocs.io/en/latest/advanced-usage.html#ssl-warnings\n",
      "  warnings.warn(\n",
      "{'show running interface e1/50': '\\n'\n",
      "                                 '!Command: show running-config interface '\n",
      "                                 'Ethernet1/50\\n'\n",
      "                                 '!Running configuration last done at: Fri Mar '\n",
      "                                 '12 17:36:47 2021\\n'\n",
      "                                 '!Time: Fri Mar 12 17:40:50 2021\\n'\n",
      "                                 '\\n'\n",
      "                                 'version 9.3(3) Bios:version  \\n'\n",
      "                                 '\\n'\n",
      "                                 'interface Ethernet1/50\\n'\n",
      "                                 '\\n'}\n"
     ]
    }
   ],
   "source": [
    "result = device.cli(['show running interface e1/50'])\n",
    "pprint(result)"
   ]
  },
  {
   "cell_type": "code",
   "execution_count": 18,
   "metadata": {},
   "outputs": [
    {
     "output_type": "stream",
     "name": "stderr",
     "text": [
      "/home/kali/Documents/PYTHON_BASIC/Nornir3/venv/lib/python3.9/site-packages/urllib3/connectionpool.py:1013: InsecureRequestWarning: Unverified HTTPS request is being made to host 'sbx-nxos-mgmt.cisco.com'. Adding certificate verification is strongly advised. See: https://urllib3.readthedocs.io/en/latest/advanced-usage.html#ssl-warnings\n",
      "  warnings.warn(\n",
      "'  description linxu3_test'\n"
     ]
    }
   ],
   "source": [
    "device.load_merge_candidate(filename = './configs/config_interface.cfg')\n",
    "pprint(device.compare_config())"
   ]
  },
  {
   "cell_type": "code",
   "execution_count": 19,
   "metadata": {},
   "outputs": [
    {
     "output_type": "stream",
     "name": "stderr",
     "text": [
      "/home/kali/Documents/PYTHON_BASIC/Nornir3/venv/lib/python3.9/site-packages/urllib3/connectionpool.py:1013: InsecureRequestWarning: Unverified HTTPS request is being made to host 'sbx-nxos-mgmt.cisco.com'. Adding certificate verification is strongly advised. See: https://urllib3.readthedocs.io/en/latest/advanced-usage.html#ssl-warnings\n",
      "  warnings.warn(\n",
      "/home/kali/Documents/PYTHON_BASIC/Nornir3/venv/lib/python3.9/site-packages/urllib3/connectionpool.py:1013: InsecureRequestWarning: Unverified HTTPS request is being made to host 'sbx-nxos-mgmt.cisco.com'. Adding certificate verification is strongly advised. See: https://urllib3.readthedocs.io/en/latest/advanced-usage.html#ssl-warnings\n",
      "  warnings.warn(\n",
      "/home/kali/Documents/PYTHON_BASIC/Nornir3/venv/lib/python3.9/site-packages/urllib3/connectionpool.py:1013: InsecureRequestWarning: Unverified HTTPS request is being made to host 'sbx-nxos-mgmt.cisco.com'. Adding certificate verification is strongly advised. See: https://urllib3.readthedocs.io/en/latest/advanced-usage.html#ssl-warnings\n",
      "  warnings.warn(\n"
     ]
    }
   ],
   "source": [
    "device.commit_config()\n",
    "# device.discard_config()"
   ]
  },
  {
   "cell_type": "code",
   "execution_count": 20,
   "metadata": {},
   "outputs": [
    {
     "output_type": "stream",
     "name": "stderr",
     "text": [
      "/home/kali/Documents/PYTHON_BASIC/Nornir3/venv/lib/python3.9/site-packages/urllib3/connectionpool.py:1013: InsecureRequestWarning: Unverified HTTPS request is being made to host 'sbx-nxos-mgmt.cisco.com'. Adding certificate verification is strongly advised. See: https://urllib3.readthedocs.io/en/latest/advanced-usage.html#ssl-warnings\n",
      "  warnings.warn(\n",
      "/home/kali/Documents/PYTHON_BASIC/Nornir3/venv/lib/python3.9/site-packages/urllib3/connectionpool.py:1013: InsecureRequestWarning: Unverified HTTPS request is being made to host 'sbx-nxos-mgmt.cisco.com'. Adding certificate verification is strongly advised. See: https://urllib3.readthedocs.io/en/latest/advanced-usage.html#ssl-warnings\n",
      "  warnings.warn(\n"
     ]
    }
   ],
   "source": [
    "device.rollback()"
   ]
  },
  {
   "cell_type": "code",
   "execution_count": 21,
   "metadata": {},
   "outputs": [],
   "source": [
    "device.close()"
   ]
  },
  {
   "source": [
    "# Jinjia2\n",
    "Jinja Templates are just .html files. By convention, they live in the /templates directory in a Flask project. \n"
   ],
   "cell_type": "markdown",
   "metadata": {}
  },
  {
   "source": [
    "## LOOP\n",
    "\n",
    "\n",
    "```jinjia2\n",
    "<ul>\n",
    "{% for user in users %}\n",
    "<li>{{ user.username|title }}</li>\n",
    "{% endfor %}\n",
    "</ul>\n",
    "\n",
    "\n",
    "<dl>\n",
    "{% for key, value in my_dict.iteritems() %}\n",
    "<dt>{{ key }}</dt>\n",
    "<dd>{{ value}}</dd>\n",
    "{% endfor %}\n",
    "</dl>\n",
    "```\n",
    "\n",
    "## IF\n",
    "\n",
    "```jinjia2\n",
    "{% if daxin.safe %}\n",
    "daxin is safe.\n",
    "{% elif daxin.dead %}\n",
    "daxin is dead\n",
    "{% else %}\n",
    "daxin is okay\n",
    "{% endif %}\n",
    "```\n"
   ],
   "cell_type": "markdown",
   "metadata": {}
  },
  {
   "source": [
    "## Quick example\n"
   ],
   "cell_type": "markdown",
   "metadata": {}
  },
  {
   "cell_type": "code",
   "execution_count": 22,
   "metadata": {},
   "outputs": [
    {
     "output_type": "execute_result",
     "data": {
      "text/plain": [
       "'Hello World!'"
      ]
     },
     "metadata": {},
     "execution_count": 22
    }
   ],
   "source": [
    "from jinja2 import Template\n",
    "t = Template(\"Hello {{ something }}!\")\n",
    "t.render(something=\"World\")"
   ]
  },
  {
   "cell_type": "code",
   "execution_count": 23,
   "metadata": {},
   "outputs": [
    {
     "output_type": "execute_result",
     "data": {
      "text/plain": [
       "'My favorite numbers: 1 2 3 4 5 6 7 8 9 '"
      ]
     },
     "metadata": {},
     "execution_count": 23
    }
   ],
   "source": [
    "\n",
    "t = Template(\"My favorite numbers: {% for n in range(1,10) %}{{n}} \" \"{% endfor %}\")\n",
    "t.render()"
   ]
  },
  {
   "cell_type": "code",
   "execution_count": 24,
   "metadata": {},
   "outputs": [
    {
     "output_type": "stream",
     "name": "stdout",
     "text": [
      "hostname Home\n"
     ]
    }
   ],
   "source": [
    "from jinja2 import Environment, FileSystemLoader, StrictUndefined\n",
    "\n",
    "env = Environment(\n",
    "    undefined=StrictUndefined,\n",
    "    trim_blocks=True,\n",
    ")\n",
    "\n",
    "env.loader = FileSystemLoader('./templates/ios')\n",
    "t = env.get_template('hostname.j2')\n",
    "text = t.render(site = 'Home')\n",
    "print(text)"
   ]
  }
 ]
}