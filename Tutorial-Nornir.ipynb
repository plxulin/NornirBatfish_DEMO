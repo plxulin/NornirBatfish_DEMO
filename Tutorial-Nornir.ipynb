{
 "metadata": {
  "language_info": {
   "codemirror_mode": {
    "name": "ipython",
    "version": 3
   },
   "file_extension": ".py",
   "mimetype": "text/x-python",
   "name": "python",
   "nbconvert_exporter": "python",
   "pygments_lexer": "ipython3",
   "version": "3.9.1-final"
  },
  "orig_nbformat": 2,
  "kernelspec": {
   "name": "python3",
   "display_name": "Python 3.9.1 64-bit ('venv')",
   "metadata": {
    "interpreter": {
     "hash": "1c7293a754fb5c7d282c5642c4f997a809b6735364b5f8f21257f0c749154671"
    }
   }
  }
 },
 "nbformat": 4,
 "nbformat_minor": 2,
 "cells": [
  {
   "source": [
    "# Nornir Tutorial"
   ],
   "cell_type": "markdown",
   "metadata": {}
  },
  {
   "source": [
    "## Register plugins\n"
   ],
   "cell_type": "markdown",
   "metadata": {}
  },
  {
   "cell_type": "code",
   "execution_count": 2,
   "metadata": {},
   "outputs": [],
   "source": [
    "from nornir.core.plugins.inventory import InventoryPluginRegister\n",
    "from nornir.plugins.runners import ThreadedRunner\n",
    "\n",
    "InventoryPluginRegister.register(\"ThreadedRunner\", ThreadedRunner)"
   ]
  },
  {
   "source": [
    "## Initializing Nornir"
   ],
   "cell_type": "markdown",
   "metadata": {}
  },
  {
   "source": [
    "from nornir import InitNornir\n",
    "config_file = !pwd\n",
    "nr = InitNornir(config_file = config_file[0] + '/config.yaml')"
   ],
   "cell_type": "code",
   "metadata": {},
   "execution_count": 3,
   "outputs": []
  },
  {
   "cell_type": "code",
   "execution_count": 4,
   "metadata": {},
   "outputs": [
    {
     "output_type": "execute_result",
     "data": {
      "text/plain": [
       "{'num_workers': 100}"
      ]
     },
     "metadata": {},
     "execution_count": 4
    }
   ],
   "source": [
    "nr.config.runner.options"
   ]
  },
  {
   "source": [
    "## Inventory "
   ],
   "cell_type": "markdown",
   "metadata": {}
  },
  {
   "cell_type": "code",
   "execution_count": 5,
   "metadata": {},
   "outputs": [
    {
     "output_type": "stream",
     "name": "stdout",
     "text": [
      "{\n    \"name\": \"str\",\n    \"connection_options\": {\n        \"$connection_type\": {\n            \"extras\": {\n                \"$key\": \"$value\"\n            },\n            \"hostname\": \"str\",\n            \"port\": \"int\",\n            \"username\": \"str\",\n            \"password\": \"str\",\n            \"platform\": \"str\"\n        }\n    },\n    \"groups\": [\n        \"$group_name\"\n    ],\n    \"data\": {\n        \"$key\": \"$value\"\n    },\n    \"hostname\": \"str\",\n    \"port\": \"int\",\n    \"username\": \"str\",\n    \"password\": \"str\",\n    \"platform\": \"str\"\n}\n"
     ]
    }
   ],
   "source": [
    "from nornir.core.inventory import Host\n",
    "import json\n",
    "print(json.dumps(Host.schema(), indent=4))\n"
   ]
  },
  {
   "cell_type": "code",
   "execution_count": 6,
   "metadata": {},
   "outputs": [
    {
     "output_type": "execute_result",
     "data": {
      "text/plain": [
       "{'R1': Host: R1,\n",
       " 'R2': Host: R2,\n",
       " 'R3': Host: R3,\n",
       " 'R4': Host: R4,\n",
       " 'R5': Host: R5,\n",
       " 'R6': Host: R6,\n",
       " 'OOB-switch': Host: OOB-switch,\n",
       " 'NMS': Host: NMS}"
      ]
     },
     "metadata": {},
     "execution_count": 6
    }
   ],
   "source": [
    "nr.inventory.hosts"
   ]
  },
  {
   "cell_type": "code",
   "execution_count": 7,
   "metadata": {},
   "outputs": [
    {
     "output_type": "execute_result",
     "data": {
      "text/plain": [
       "{'SiteA': Group: SiteA, 'SiteB': Group: SiteB, 'OOB': Group: OOB}"
      ]
     },
     "metadata": {},
     "execution_count": 7
    }
   ],
   "source": [
    "nr.inventory.groups"
   ]
  },
  {
   "cell_type": "code",
   "execution_count": 8,
   "metadata": {},
   "outputs": [
    {
     "output_type": "stream",
     "name": "stdout",
     "text": [
      "dict_items([('site', 'SiteA'), ('role', 'BRANCH'), ('type', 'network_device'), ('domain', 'Cola'), ('asn', 65001)])\n"
     ]
    },
    {
     "output_type": "execute_result",
     "data": {
      "text/plain": [
       "'SiteA'"
      ]
     },
     "metadata": {},
     "execution_count": 8
    }
   ],
   "source": [
    "R1 = nr.inventory.hosts['R1']\n",
    "print(R1.items())\n",
    "R1['site']"
   ]
  },
  {
   "cell_type": "code",
   "execution_count": 9,
   "metadata": {},
   "outputs": [
    {
     "output_type": "execute_result",
     "data": {
      "text/plain": [
       "{'SiteA': Group: SiteA, 'SiteB': Group: SiteB, 'OOB': Group: OOB}"
      ]
     },
     "metadata": {},
     "execution_count": 9
    }
   ],
   "source": [
    "nr.inventory.groups"
   ]
  },
  {
   "source": [
    "## Tasks"
   ],
   "cell_type": "markdown",
   "metadata": {}
  },
  {
   "cell_type": "code",
   "execution_count": 10,
   "metadata": {},
   "outputs": [
    {
     "output_type": "stream",
     "name": "stdout",
     "text": [
      "\u001b[1m\u001b[36mhello_world*********************************************************************\u001b[0m\n",
      "\u001b[0m\u001b[1m\u001b[34m* R1 ** changed : False ********************************************************\u001b[0m\n",
      "\u001b[0m\u001b[1m\u001b[32mvvvv hello_world ** changed : False vvvvvvvvvvvvvvvvvvvvvvvvvvvvvvvvvvvvvvvvvvvv INFO\u001b[0m\n",
      "\u001b[0mR1 says hello world!\u001b[0m\n",
      "\u001b[0m\u001b[1m\u001b[32m^^^^ END hello_world ^^^^^^^^^^^^^^^^^^^^^^^^^^^^^^^^^^^^^^^^^^^^^^^^^^^^^^^^^^^\u001b[0m\n",
      "\u001b[0m\u001b[1m\u001b[34m* R2 ** changed : False ********************************************************\u001b[0m\n",
      "\u001b[0m\u001b[1m\u001b[32mvvvv hello_world ** changed : False vvvvvvvvvvvvvvvvvvvvvvvvvvvvvvvvvvvvvvvvvvvv INFO\u001b[0m\n",
      "\u001b[0mR2 says hello world!\u001b[0m\n",
      "\u001b[0m\u001b[1m\u001b[32m^^^^ END hello_world ^^^^^^^^^^^^^^^^^^^^^^^^^^^^^^^^^^^^^^^^^^^^^^^^^^^^^^^^^^^\u001b[0m\n",
      "\u001b[0m\u001b[1m\u001b[34m* R3 ** changed : False ********************************************************\u001b[0m\n",
      "\u001b[0m\u001b[1m\u001b[32mvvvv hello_world ** changed : False vvvvvvvvvvvvvvvvvvvvvvvvvvvvvvvvvvvvvvvvvvvv INFO\u001b[0m\n",
      "\u001b[0mR3 says hello world!\u001b[0m\n",
      "\u001b[0m\u001b[1m\u001b[32m^^^^ END hello_world ^^^^^^^^^^^^^^^^^^^^^^^^^^^^^^^^^^^^^^^^^^^^^^^^^^^^^^^^^^^\u001b[0m\n",
      "\u001b[0m"
     ]
    }
   ],
   "source": [
    "nr = nr.filter(site = 'SiteA')\n",
    "from nornir.core.task import Task, Result\n",
    "from nornir_utils.plugins.functions import print_result\n",
    "\n",
    "def hello_world(task: Task) -> Result:\n",
    "    return Result(\n",
    "        host=task.host,\n",
    "        result=f\"{task.host.name} says hello world!\"\n",
    "    )\n",
    "result = nr.run(task=hello_world)\n",
    "print_result(result)\n"
   ]
  },
  {
   "cell_type": "code",
   "execution_count": 11,
   "metadata": {},
   "outputs": [
    {
     "output_type": "stream",
     "name": "stdout",
     "text": [
      "\u001b[1m\u001b[36mSaying goodbye in a very friendly manner****************************************\u001b[0m\n",
      "\u001b[0m\u001b[1m\u001b[34m* R1 ** changed : False ********************************************************\u001b[0m\n",
      "\u001b[0m\u001b[1m\u001b[32mvvvv Saying goodbye in a very friendly manner ** changed : False vvvvvvvvvvvvvvv INFO\u001b[0m\n",
      "\u001b[0mR1 says buhbye!\u001b[0m\n",
      "\u001b[0m\u001b[1m\u001b[32m^^^^ END Saying goodbye in a very friendly manner ^^^^^^^^^^^^^^^^^^^^^^^^^^^^^^\u001b[0m\n",
      "\u001b[0m\u001b[1m\u001b[34m* R2 ** changed : False ********************************************************\u001b[0m\n",
      "\u001b[0m\u001b[1m\u001b[32mvvvv Saying goodbye in a very friendly manner ** changed : False vvvvvvvvvvvvvvv INFO\u001b[0m\n",
      "\u001b[0mR2 says buhbye!\u001b[0m\n",
      "\u001b[0m\u001b[1m\u001b[32m^^^^ END Saying goodbye in a very friendly manner ^^^^^^^^^^^^^^^^^^^^^^^^^^^^^^\u001b[0m\n",
      "\u001b[0m\u001b[1m\u001b[34m* R3 ** changed : False ********************************************************\u001b[0m\n",
      "\u001b[0m\u001b[1m\u001b[32mvvvv Saying goodbye in a very friendly manner ** changed : False vvvvvvvvvvvvvvv INFO\u001b[0m\n",
      "\u001b[0mR3 says buhbye!\u001b[0m\n",
      "\u001b[0m\u001b[1m\u001b[32m^^^^ END Saying goodbye in a very friendly manner ^^^^^^^^^^^^^^^^^^^^^^^^^^^^^^\u001b[0m\n",
      "\u001b[0m"
     ]
    }
   ],
   "source": [
    "\n",
    "def say(task: Task, text: str) -> Result:\n",
    "    return Result(\n",
    "        host=task.host,\n",
    "        result=f\"{task.host.name} says {text}\"\n",
    "    )\n",
    "\n",
    "result = nr.run(\n",
    "    name=\"Saying goodbye in a very friendly manner\",\n",
    "    task=say,\n",
    "    text=\"buhbye!\"\n",
    ")\n",
    "print_result(result)"
   ]
  },
  {
   "source": [
    "## Grouping tasks"
   ],
   "cell_type": "markdown",
   "metadata": {}
  },
  {
   "cell_type": "code",
   "execution_count": 12,
   "metadata": {},
   "outputs": [
    {
     "output_type": "stream",
     "name": "stdout",
     "text": [
      "\u001b[1m\u001b[36mCounting to 5 while being very polite*******************************************\u001b[0m\n",
      "\u001b[0m\u001b[1m\u001b[34m* R1 ** changed : False ********************************************************\u001b[0m\n",
      "\u001b[0m\u001b[1m\u001b[32mvvvv Counting to 5 while being very polite ** changed : False vvvvvvvvvvvvvvvvvv INFO\u001b[0m\n",
      "\u001b[0mR1 counted even times!\u001b[0m\n",
      "\u001b[0m\u001b[1m\u001b[32m---- Greeting is the polite thing to do ** changed : False --------------------- INFO\u001b[0m\n",
      "\u001b[0mR1 says hi!\u001b[0m\n",
      "\u001b[0m\u001b[1m\u001b[32m---- Counting beans ** changed : False ----------------------------------------- INFO\u001b[0m\n",
      "\u001b[0m[0, 1, 2, 3, 4]\u001b[0m\n",
      "\u001b[0m\u001b[1m\u001b[32m---- We should say bye too ** changed : False ---------------------------------- INFO\u001b[0m\n",
      "\u001b[0mR1 says bye!\u001b[0m\n",
      "\u001b[0m\u001b[1m\u001b[32m^^^^ END Counting to 5 while being very polite ^^^^^^^^^^^^^^^^^^^^^^^^^^^^^^^^^\u001b[0m\n",
      "\u001b[0m\u001b[1m\u001b[34m* R2 ** changed : False ********************************************************\u001b[0m\n",
      "\u001b[0m\u001b[1m\u001b[32mvvvv Counting to 5 while being very polite ** changed : False vvvvvvvvvvvvvvvvvv INFO\u001b[0m\n",
      "\u001b[0mR2 counted even times!\u001b[0m\n",
      "\u001b[0m\u001b[1m\u001b[32m---- Greeting is the polite thing to do ** changed : False --------------------- INFO\u001b[0m\n",
      "\u001b[0mR2 says hi!\u001b[0m\n",
      "\u001b[0m\u001b[1m\u001b[32m---- Counting beans ** changed : False ----------------------------------------- INFO\u001b[0m\n",
      "\u001b[0m[0, 1, 2, 3, 4]\u001b[0m\n",
      "\u001b[0m\u001b[1m\u001b[32m---- We should say bye too ** changed : False ---------------------------------- INFO\u001b[0m\n",
      "\u001b[0mR2 says bye!\u001b[0m\n",
      "\u001b[0m\u001b[1m\u001b[32m^^^^ END Counting to 5 while being very polite ^^^^^^^^^^^^^^^^^^^^^^^^^^^^^^^^^\u001b[0m\n",
      "\u001b[0m\u001b[1m\u001b[34m* R3 ** changed : False ********************************************************\u001b[0m\n",
      "\u001b[0m\u001b[1m\u001b[32mvvvv Counting to 5 while being very polite ** changed : False vvvvvvvvvvvvvvvvvv INFO\u001b[0m\n",
      "\u001b[0mR3 counted even times!\u001b[0m\n",
      "\u001b[0m\u001b[1m\u001b[32m---- Greeting is the polite thing to do ** changed : False --------------------- INFO\u001b[0m\n",
      "\u001b[0mR3 says hi!\u001b[0m\n",
      "\u001b[0m\u001b[1m\u001b[32m---- Counting beans ** changed : False ----------------------------------------- INFO\u001b[0m\n",
      "\u001b[0m[0, 1, 2, 3, 4]\u001b[0m\n",
      "\u001b[0m\u001b[1m\u001b[32m---- We should say bye too ** changed : False ---------------------------------- INFO\u001b[0m\n",
      "\u001b[0mR3 says bye!\u001b[0m\n",
      "\u001b[0m\u001b[1m\u001b[32m^^^^ END Counting to 5 while being very polite ^^^^^^^^^^^^^^^^^^^^^^^^^^^^^^^^^\u001b[0m\n",
      "\u001b[0m"
     ]
    }
   ],
   "source": [
    "def count(task: Task, number: int) -> Result:\n",
    "    return Result(\n",
    "        host=task.host,\n",
    "        result=f\"{[n for n in range(0, number)]}\"\n",
    "    )\n",
    "\n",
    "def greet_and_count(task: Task, number: int) -> Result:\n",
    "    task.run(\n",
    "        name=\"Greeting is the polite thing to do\",\n",
    "        task=say,\n",
    "        text=\"hi!\",\n",
    "    )\n",
    "\n",
    "    task.run(\n",
    "        name=\"Counting beans\",\n",
    "        task=count,\n",
    "        number=number,\n",
    "    )\n",
    "    task.run(\n",
    "        name=\"We should say bye too\",\n",
    "        task=say,\n",
    "        text=\"bye!\",\n",
    "    )\n",
    "\n",
    "    # let's inform if we counted even or odd times\n",
    "    even_or_odds = \"even\" if number % 2 == 1 else \"odd\"\n",
    "    return Result(\n",
    "        host=task.host,\n",
    "        result=f\"{task.host} counted {even_or_odds} times!\",\n",
    "    )\n",
    "\n",
    "result = nr.run(\n",
    "    name=\"Counting to 5 while being very polite\",\n",
    "    task=greet_and_count,\n",
    "    number=5,\n",
    ")\n",
    "print_result(result)"
   ]
  },
  {
   "source": [
    "## Processing results"
   ],
   "cell_type": "markdown",
   "metadata": {}
  },
  {
   "cell_type": "code",
   "execution_count": 27,
   "metadata": {},
   "outputs": [],
   "source": [
    "import logging\n",
    "\n",
    "from nornir import InitNornir\n",
    "from nornir.core.task import Task, Result\n",
    "\n",
    "# instantiate the nr object\n",
    "nr = InitNornir(config_file=\"config.yaml\")\n",
    "# let's filter it down to simplify the output\n",
    "cmh = nr.filter(site=\"SiteA\")\n",
    "\n",
    "def count(task: Task, number: int) -> Result:\n",
    "    return Result(\n",
    "        host=task.host,\n",
    "        result=f\"{[n for n in range(0, number)]}\"\n",
    "    )\n",
    "\n",
    "def say(task: Task, text: str) -> Result:\n",
    "    if task.host.name == \"R1\":\n",
    "        raise Exception(\"I can't say anything right now\")\n",
    "    return Result(\n",
    "        host=task.host,\n",
    "        result=f\"{task.host.name} says {text}\"\n",
    "    )"
   ]
  },
  {
   "cell_type": "code",
   "execution_count": 28,
   "metadata": {},
   "outputs": [],
   "source": [
    "def greet_and_count(task: Task, number: int):\n",
    "    task.run(\n",
    "        name=\"Greeting is the polite thing to do\",\n",
    "        severity_level=logging.DEBUG,\n",
    "        task=say,\n",
    "        text=\"hi!\",\n",
    "    )\n",
    "\n",
    "    task.run(\n",
    "        name=\"Counting beans\",\n",
    "        task=count,\n",
    "        number=number,\n",
    "    )\n",
    "    task.run(\n",
    "        name=\"We should say bye too\",\n",
    "        severity_level=logging.DEBUG,\n",
    "        task=say,\n",
    "        text=\"bye!\",\n",
    "    )\n",
    "\n",
    "    # let's inform if we counted even or odd times\n",
    "    even_or_odds = \"even\" if number % 2 == 1 else \"odd\"\n",
    "    return Result(\n",
    "        host=task.host,\n",
    "        result=f\"{task.host} counted {even_or_odds} times!\",\n",
    "    )"
   ]
  },
  {
   "cell_type": "code",
   "execution_count": 29,
   "metadata": {},
   "outputs": [],
   "source": [
    "result = cmh.run(\n",
    "    task=greet_and_count,\n",
    "    number=6,\n",
    ")"
   ]
  },
  {
   "source": [
    "### The easy way\n"
   ],
   "cell_type": "markdown",
   "metadata": {}
  },
  {
   "cell_type": "code",
   "execution_count": 30,
   "metadata": {},
   "outputs": [
    {
     "output_type": "stream",
     "name": "stdout",
     "text": [
      "\u001b[1m\u001b[36mgreet_and_count*****************************************************************\u001b[0m\n",
      "\u001b[0m\u001b[1m\u001b[34m* R1 ** changed : False ********************************************************\u001b[0m\n",
      "\u001b[0m\u001b[1m\u001b[31mvvvv greet_and_count ** changed : False vvvvvvvvvvvvvvvvvvvvvvvvvvvvvvvvvvvvvvvv ERROR\u001b[0m\n",
      "\u001b[0mSubtask: Greeting is the polite thing to do (failed)\n",
      "\u001b[0m\n",
      "\u001b[0m\u001b[1m\u001b[31m---- Greeting is the polite thing to do ** changed : False --------------------- ERROR\u001b[0m\n",
      "\u001b[0mTraceback (most recent call last):\n",
      "  File \"/home/kali/Documents/PYTHON_BASIC/venv/lib/python3.9/site-packages/nornir/core/task.py\", line 98, in start\n",
      "    r = self.task(self, **self.params)\n",
      "  File \"<ipython-input-27-92b919bcb2f8>\", line 19, in say\n",
      "    raise Exception(\"I can't say anything right now\")\n",
      "Exception: I can't say anything right now\n",
      "\u001b[0m\n",
      "\u001b[0m\u001b[1m\u001b[31m^^^^ END greet_and_count ^^^^^^^^^^^^^^^^^^^^^^^^^^^^^^^^^^^^^^^^^^^^^^^^^^^^^^^\u001b[0m\n",
      "\u001b[0m\u001b[1m\u001b[34m* R2 ** changed : False ********************************************************\u001b[0m\n",
      "\u001b[0m\u001b[1m\u001b[32mvvvv greet_and_count ** changed : False vvvvvvvvvvvvvvvvvvvvvvvvvvvvvvvvvvvvvvvv INFO\u001b[0m\n",
      "\u001b[0mR2 counted odd times!\u001b[0m\n",
      "\u001b[0m\u001b[1m\u001b[32m---- Counting beans ** changed : False ----------------------------------------- INFO\u001b[0m\n",
      "\u001b[0m[0, 1, 2, 3, 4, 5]\u001b[0m\n",
      "\u001b[0m\u001b[1m\u001b[32m^^^^ END greet_and_count ^^^^^^^^^^^^^^^^^^^^^^^^^^^^^^^^^^^^^^^^^^^^^^^^^^^^^^^\u001b[0m\n",
      "\u001b[0m\u001b[1m\u001b[34m* R3 ** changed : False ********************************************************\u001b[0m\n",
      "\u001b[0m\u001b[1m\u001b[32mvvvv greet_and_count ** changed : False vvvvvvvvvvvvvvvvvvvvvvvvvvvvvvvvvvvvvvvv INFO\u001b[0m\n",
      "\u001b[0mR3 counted odd times!\u001b[0m\n",
      "\u001b[0m\u001b[1m\u001b[32m---- Counting beans ** changed : False ----------------------------------------- INFO\u001b[0m\n",
      "\u001b[0m[0, 1, 2, 3, 4, 5]\u001b[0m\n",
      "\u001b[0m\u001b[1m\u001b[32m^^^^ END greet_and_count ^^^^^^^^^^^^^^^^^^^^^^^^^^^^^^^^^^^^^^^^^^^^^^^^^^^^^^^\u001b[0m\n",
      "\u001b[0m"
     ]
    }
   ],
   "source": [
    "from nornir_utils.plugins.functions import print_result\n",
    "\n",
    "print_result(result)"
   ]
  },
  {
   "source": [
    "print a single host"
   ],
   "cell_type": "markdown",
   "metadata": {}
  },
  {
   "cell_type": "code",
   "execution_count": 32,
   "metadata": {},
   "outputs": [
    {
     "output_type": "stream",
     "name": "stdout",
     "text": [
      "\u001b[1m\u001b[31mvvvv R1: greet_and_count ** changed : False vvvvvvvvvvvvvvvvvvvvvvvvvvvvvvvvvvvv ERROR\u001b[0m\n",
      "\u001b[0mSubtask: Greeting is the polite thing to do (failed)\n",
      "\u001b[0m\n",
      "\u001b[0m\u001b[1m\u001b[31m---- Greeting is the polite thing to do ** changed : False --------------------- ERROR\u001b[0m\n",
      "\u001b[0mTraceback (most recent call last):\n",
      "  File \"/home/kali/Documents/PYTHON_BASIC/venv/lib/python3.9/site-packages/nornir/core/task.py\", line 98, in start\n",
      "    r = self.task(self, **self.params)\n",
      "  File \"<ipython-input-27-92b919bcb2f8>\", line 19, in say\n",
      "    raise Exception(\"I can't say anything right now\")\n",
      "Exception: I can't say anything right now\n",
      "\u001b[0m\n",
      "\u001b[0m\u001b[1m\u001b[31m^^^^ END greet_and_count ^^^^^^^^^^^^^^^^^^^^^^^^^^^^^^^^^^^^^^^^^^^^^^^^^^^^^^^\u001b[0m\n",
      "\u001b[0m"
     ]
    }
   ],
   "source": [
    "print_result(result[\"R1\"])"
   ]
  },
  {
   "source": [
    "print a single task\n",
    "\n",
    "serverity_level:\n",
    "- DEBUG : 10\n",
    "- INFO : 20\n",
    "- WARNING : 30\n",
    "- ERROR : 40\n",
    "- FATAL : 50"
   ],
   "cell_type": "markdown",
   "metadata": {}
  },
  {
   "cell_type": "code",
   "execution_count": 33,
   "metadata": {},
   "outputs": [
    {
     "output_type": "stream",
     "name": "stdout",
     "text": [
      "\u001b[1m\u001b[32m---- R2: Counting beans ** changed : False ------------------------------------- INFO\u001b[0m\n",
      "\u001b[0m[0, 1, 2, 3, 4, 5]\u001b[0m\n",
      "\u001b[0m"
     ]
    }
   ],
   "source": [
    "print_result(result[\"R2\"][2])"
   ]
  },
  {
   "cell_type": "code",
   "execution_count": 50,
   "metadata": {},
   "outputs": [
    {
     "output_type": "stream",
     "name": "stdout",
     "text": [
      "\u001b[1m\u001b[36mgreet_and_count*****************************************************************\u001b[0m\n",
      "\u001b[0m\u001b[1m\u001b[34m* R1 ** changed : False ********************************************************\u001b[0m\n",
      "\u001b[0m\u001b[1m\u001b[31mvvvv greet_and_count ** changed : False vvvvvvvvvvvvvvvvvvvvvvvvvvvvvvvvvvvvvvvv ERROR\u001b[0m\n",
      "\u001b[0mSubtask: Greeting is the polite thing to do (failed)\n",
      "\u001b[0m\n",
      "\u001b[0m\u001b[1m\u001b[31m---- Greeting is the polite thing to do ** changed : False --------------------- ERROR\u001b[0m\n",
      "\u001b[0mTraceback (most recent call last):\n",
      "  File \"/home/kali/Documents/PYTHON_BASIC/venv/lib/python3.9/site-packages/nornir/core/task.py\", line 98, in start\n",
      "    r = self.task(self, **self.params)\n",
      "  File \"<ipython-input-27-92b919bcb2f8>\", line 19, in say\n",
      "    raise Exception(\"I can't say anything right now\")\n",
      "Exception: I can't say anything right now\n",
      "\u001b[0m\n",
      "\u001b[0m\u001b[1m\u001b[31m^^^^ END greet_and_count ^^^^^^^^^^^^^^^^^^^^^^^^^^^^^^^^^^^^^^^^^^^^^^^^^^^^^^^\u001b[0m\n",
      "\u001b[0m\u001b[1m\u001b[34m* R2 ** changed : False ********************************************************\u001b[0m\n",
      "\u001b[0m\u001b[1m\u001b[32mvvvv greet_and_count ** changed : False vvvvvvvvvvvvvvvvvvvvvvvvvvvvvvvvvvvvvvvv INFO\u001b[0m\n",
      "\u001b[0mR2 counted odd times!\u001b[0m\n",
      "\u001b[0m\u001b[1m\u001b[32m---- Counting beans ** changed : False ----------------------------------------- INFO\u001b[0m\n",
      "\u001b[0m[0, 1, 2, 3, 4, 5]\u001b[0m\n",
      "\u001b[0m\u001b[1m\u001b[32m^^^^ END greet_and_count ^^^^^^^^^^^^^^^^^^^^^^^^^^^^^^^^^^^^^^^^^^^^^^^^^^^^^^^\u001b[0m\n",
      "\u001b[0m\u001b[1m\u001b[34m* R3 ** changed : False ********************************************************\u001b[0m\n",
      "\u001b[0m\u001b[1m\u001b[32mvvvv greet_and_count ** changed : False vvvvvvvvvvvvvvvvvvvvvvvvvvvvvvvvvvvvvvvv INFO\u001b[0m\n",
      "\u001b[0mR3 counted odd times!\u001b[0m\n",
      "\u001b[0m\u001b[1m\u001b[32m---- Counting beans ** changed : False ----------------------------------------- INFO\u001b[0m\n",
      "\u001b[0m[0, 1, 2, 3, 4, 5]\u001b[0m\n",
      "\u001b[0m\u001b[1m\u001b[32m^^^^ END greet_and_count ^^^^^^^^^^^^^^^^^^^^^^^^^^^^^^^^^^^^^^^^^^^^^^^^^^^^^^^\u001b[0m\n",
      "\u001b[0m"
     ]
    }
   ],
   "source": [
    "print_result(result, severity_level=logging.INFO)"
   ]
  },
  {
   "cell_type": "code",
   "execution_count": null,
   "metadata": {},
   "outputs": [],
   "source": []
  }
 ]
}