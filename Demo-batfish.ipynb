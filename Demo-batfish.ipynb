{
 "metadata": {
  "language_info": {
   "codemirror_mode": {
    "name": "ipython",
    "version": 3
   },
   "file_extension": ".py",
   "mimetype": "text/x-python",
   "name": "python",
   "nbconvert_exporter": "python",
   "pygments_lexer": "ipython3",
   "version": "3.9.1-final"
  },
  "orig_nbformat": 2,
  "kernelspec": {
   "name": "python3",
   "display_name": "Python 3",
   "language": "python"
  }
 },
 "nbformat": 4,
 "nbformat_minor": 2,
 "cells": [
  {
   "source": [
    "# Start My Batfish Journey\n",
    "\n",
    "![image](./batfish_snapshot/forwarding-change-validation/Pic.png)"
   ],
   "cell_type": "markdown",
   "metadata": {}
  },
  {
   "cell_type": "code",
   "execution_count": 1,
   "metadata": {},
   "outputs": [],
   "source": [
    "# Import packages\n",
    "%run startup.py\n",
    "load_questions()\n",
    "bf_session.host = 'localhost'\n"
   ]
  },
  {
   "source": [
    "## Initializing a new snapshot"
   ],
   "cell_type": "markdown",
   "metadata": {}
  },
  {
   "cell_type": "code",
   "execution_count": 2,
   "metadata": {},
   "outputs": [
    {
     "output_type": "stream",
     "name": "stderr",
     "text": [
      "Your snapshot was successfully initialized but Batfish failed to fully recognized some lines in one or more input files. Some unrecognized configuration lines are not uncommon for new networks, and it is often fine to proceed with further analysis. You can help the Batfish developers improve support for your network by running:\n\n    bf_upload_diagnostics(dry_run=False, contact_info='<optional email address>')\n\nto share private, anonymized information. For more information, see the documentation with:\n\n    help(bf_upload_diagnostics)\n"
     ]
    },
    {
     "output_type": "execute_result",
     "data": {
      "text/plain": [
       "'base'"
      ]
     },
     "metadata": {},
     "execution_count": 2
    }
   ],
   "source": [
    "NETWORK_NAME = 'forwarding_change_validation'\n",
    "SNAPSHOT_NAME = 'base'\n",
    "SNAPSHOT_DIR = './batfish_snapshot/forwarding-change-validation/base'\n",
    "\n",
    "\n",
    "bf_set_network(NETWORK_NAME)\n",
    "bf_init_snapshot(SNAPSHOT_DIR, name=SNAPSHOT_NAME, overwrite=True)\n"
   ]
  },
  {
   "source": [
    "## Get status of parsed files"
   ],
   "cell_type": "markdown",
   "metadata": {}
  },
  {
   "cell_type": "code",
   "execution_count": 3,
   "metadata": {},
   "outputs": [
    {
     "output_type": "execute_result",
     "data": {
      "text/plain": [
       "             File_Name                  Status         Nodes\n",
       "0  configs/border1.cfg  PARTIALLY_UNRECOGNIZED   ['border1']\n",
       "1  configs/border2.cfg                  PASSED   ['border2']\n",
       "2    configs/core1.cfg                  PASSED     ['core1']\n",
       "3    configs/core2.cfg                  PASSED     ['core2']\n",
       "4    configs/leaf1.cfg                  PASSED     ['leaf1']\n",
       "5   configs/spine1.cfg                  PASSED    ['spine1']\n",
       "6   configs/spine2.cfg                  PASSED    ['spine2']\n",
       "7   hosts/host-db.json                  PASSED   ['host-db']\n",
       "8  hosts/host-www.json                  PASSED  ['host-www']"
      ],
      "text/html": "<div>\n<style scoped>\n    .dataframe tbody tr th:only-of-type {\n        vertical-align: middle;\n    }\n\n    .dataframe tbody tr th {\n        vertical-align: top;\n    }\n\n    .dataframe thead th {\n        text-align: right;\n    }\n</style>\n<table border=\"1\" class=\"dataframe tex2jax_ignore\">\n  <thead>\n    <tr style=\"text-align: right;\">\n      <th></th>\n      <th>File_Name</th>\n      <th>Status</th>\n      <th>Nodes</th>\n    </tr>\n  </thead>\n  <tbody>\n    <tr>\n      <th>0</th>\n      <td>configs/border1.cfg</td>\n      <td>PARTIALLY_UNRECOGNIZED</td>\n      <td>['border1']</td>\n    </tr>\n    <tr>\n      <th>1</th>\n      <td>configs/border2.cfg</td>\n      <td>PASSED</td>\n      <td>['border2']</td>\n    </tr>\n    <tr>\n      <th>2</th>\n      <td>configs/core1.cfg</td>\n      <td>PASSED</td>\n      <td>['core1']</td>\n    </tr>\n    <tr>\n      <th>3</th>\n      <td>configs/core2.cfg</td>\n      <td>PASSED</td>\n      <td>['core2']</td>\n    </tr>\n    <tr>\n      <th>4</th>\n      <td>configs/leaf1.cfg</td>\n      <td>PASSED</td>\n      <td>['leaf1']</td>\n    </tr>\n    <tr>\n      <th>5</th>\n      <td>configs/spine1.cfg</td>\n      <td>PASSED</td>\n      <td>['spine1']</td>\n    </tr>\n    <tr>\n      <th>6</th>\n      <td>configs/spine2.cfg</td>\n      <td>PASSED</td>\n      <td>['spine2']</td>\n    </tr>\n    <tr>\n      <th>7</th>\n      <td>hosts/host-db.json</td>\n      <td>PASSED</td>\n      <td>['host-db']</td>\n    </tr>\n    <tr>\n      <th>8</th>\n      <td>hosts/host-www.json</td>\n      <td>PASSED</td>\n      <td>['host-www']</td>\n    </tr>\n  </tbody>\n</table>\n</div>"
     },
     "metadata": {},
     "execution_count": 3
    }
   ],
   "source": [
    "parse_status = bfq.fileParseStatus().answer().frame()   #answer is json, frame is pandas dataframe\n",
    "parse_status#[parse_status['Status'] != 'PASSED']"
   ]
  },
  {
   "cell_type": "code",
   "execution_count": 4,
   "metadata": {},
   "outputs": [
    {
     "output_type": "execute_result",
     "data": {
      "text/plain": [
       "  Nodes                Source_Lines           Type  \\\n",
       "0  None  [configs/border1.cfg:[18]]  Parse warning   \n",
       "1  None  [configs/border1.cfg:[19]]  Parse warning   \n",
       "2  None  [configs/border1.cfg:[20]]  Parse warning   \n",
       "3  None  [configs/border1.cfg:[21]]  Parse warning   \n",
       "\n",
       "                       Details                Line_Text  \\\n",
       "0  This syntax is unrecognized  mmi polling-interval 60   \n",
       "1  This syntax is unrecognized    no mmi auto-configure   \n",
       "2  This syntax is unrecognized               no mmi pvc   \n",
       "3  This syntax is unrecognized     mmi snmp-timeout 180   \n",
       "\n",
       "                 Parser_Context  \n",
       "0         [cisco_configuration]  \n",
       "1         [cisco_configuration]  \n",
       "2  [stanza cisco_configuration]  \n",
       "3         [cisco_configuration]  "
      ],
      "text/html": "<div>\n<style scoped>\n    .dataframe tbody tr th:only-of-type {\n        vertical-align: middle;\n    }\n\n    .dataframe tbody tr th {\n        vertical-align: top;\n    }\n\n    .dataframe thead th {\n        text-align: right;\n    }\n</style>\n<table border=\"1\" class=\"dataframe tex2jax_ignore\">\n  <thead>\n    <tr style=\"text-align: right;\">\n      <th></th>\n      <th>Nodes</th>\n      <th>Source_Lines</th>\n      <th>Type</th>\n      <th>Details</th>\n      <th>Line_Text</th>\n      <th>Parser_Context</th>\n    </tr>\n  </thead>\n  <tbody>\n    <tr>\n      <th>0</th>\n      <td>None</td>\n      <td>[configs/border1.cfg:[18]]</td>\n      <td>Parse warning</td>\n      <td>This syntax is unrecognized</td>\n      <td>mmi polling-interval 60</td>\n      <td>[cisco_configuration]</td>\n    </tr>\n    <tr>\n      <th>1</th>\n      <td>None</td>\n      <td>[configs/border1.cfg:[19]]</td>\n      <td>Parse warning</td>\n      <td>This syntax is unrecognized</td>\n      <td>no mmi auto-configure</td>\n      <td>[cisco_configuration]</td>\n    </tr>\n    <tr>\n      <th>2</th>\n      <td>None</td>\n      <td>[configs/border1.cfg:[20]]</td>\n      <td>Parse warning</td>\n      <td>This syntax is unrecognized</td>\n      <td>no mmi pvc</td>\n      <td>[stanza cisco_configuration]</td>\n    </tr>\n    <tr>\n      <th>3</th>\n      <td>None</td>\n      <td>[configs/border1.cfg:[21]]</td>\n      <td>Parse warning</td>\n      <td>This syntax is unrecognized</td>\n      <td>mmi snmp-timeout 180</td>\n      <td>[cisco_configuration]</td>\n    </tr>\n  </tbody>\n</table>\n</div>"
     },
     "metadata": {},
     "execution_count": 4
    }
   ],
   "source": [
    "load_questions()  #load all questions\n",
    "bfq.initIssues().answer().frame()"
   ]
  },
  {
   "source": [
    "# Batfish questins\n",
    "https://www.batfish.org/assets/cheat-sheet.pdf\n"
   ],
   "cell_type": "markdown",
   "metadata": {}
  },
  {
   "source": [
    "## Node properties"
   ],
   "cell_type": "markdown",
   "metadata": {}
  },
  {
   "cell_type": "code",
   "execution_count": 5,
   "metadata": {},
   "outputs": [],
   "source": [
    "# Extract the properties of all nodes whose names contain 'border'\n",
    "node_properties = bfq.nodeProperties(nodes=\"/border/\").answer().frame()"
   ]
  },
  {
   "cell_type": "code",
   "execution_count": 6,
   "metadata": {},
   "outputs": [
    {
     "output_type": "execute_result",
     "data": {
      "text/plain": [
       "Index(['Node', 'AS_Path_Access_Lists', 'Authentication_Key_Chains',\n",
       "       'Community_Lists', 'Configuration_Format', 'DNS_Servers',\n",
       "       'DNS_Source_Interface', 'Default_Cross_Zone_Action',\n",
       "       'Default_Inbound_Action', 'Domain_Name', 'Hostname', 'IKE_Phase1_Keys',\n",
       "       'IKE_Phase1_Policies', 'IKE_Phase1_Proposals', 'IP6_Access_Lists',\n",
       "       'IP_Access_Lists', 'IPsec_Peer_Configs', 'IPsec_Phase2_Policies',\n",
       "       'IPsec_Phase2_Proposals', 'Interfaces', 'Logging_Servers',\n",
       "       'Logging_Source_Interface', 'NTP_Servers', 'NTP_Source_Interface',\n",
       "       'PBR_Policies', 'Route6_Filter_Lists', 'Route_Filter_Lists',\n",
       "       'Routing_Policies', 'SNMP_Source_Interface', 'SNMP_Trap_Servers',\n",
       "       'TACACS_Servers', 'TACACS_Source_Interface', 'VRFs', 'Zones'],\n",
       "      dtype='object')"
      ]
     },
     "metadata": {},
     "execution_count": 6
    }
   ],
   "source": [
    "# View what columns (properties) are present in the answer\n",
    "node_properties.columns"
   ]
  },
  {
   "cell_type": "code",
   "execution_count": 7,
   "metadata": {},
   "outputs": [
    {
     "output_type": "execute_result",
     "data": {
      "text/plain": [
       "      Node Domain_Name  \\\n",
       "0  border1   lab.local   \n",
       "1  border2   lab.local   \n",
       "\n",
       "                                                                                       Interfaces  \\\n",
       "0  ['Ethernet0/0', 'GigabitEthernet0/0', 'GigabitEthernet1/0', 'GigabitEthernet2/0', 'Loopback0']   \n",
       "1  ['Ethernet0/0', 'GigabitEthernet0/0', 'GigabitEthernet1/0', 'GigabitEthernet2/0', 'Loopback0']   \n",
       "\n",
       "                      NTP_Servers  \n",
       "0  ['18.18.18.18', '23.23.23.23']  \n",
       "1                 ['18.18.18.18']  "
      ],
      "text/html": "<div>\n<style scoped>\n    .dataframe tbody tr th:only-of-type {\n        vertical-align: middle;\n    }\n\n    .dataframe tbody tr th {\n        vertical-align: top;\n    }\n\n    .dataframe thead th {\n        text-align: right;\n    }\n</style>\n<table border=\"1\" class=\"dataframe tex2jax_ignore\">\n  <thead>\n    <tr style=\"text-align: right;\">\n      <th></th>\n      <th>Node</th>\n      <th>Domain_Name</th>\n      <th>Interfaces</th>\n      <th>NTP_Servers</th>\n    </tr>\n  </thead>\n  <tbody>\n    <tr>\n      <th>0</th>\n      <td>border1</td>\n      <td>lab.local</td>\n      <td>['Ethernet0/0', 'GigabitEthernet0/0', 'GigabitEthernet1/0', 'GigabitEthernet2/0', 'Loopback0']</td>\n      <td>['18.18.18.18', '23.23.23.23']</td>\n    </tr>\n    <tr>\n      <th>1</th>\n      <td>border2</td>\n      <td>lab.local</td>\n      <td>['Ethernet0/0', 'GigabitEthernet0/0', 'GigabitEthernet1/0', 'GigabitEthernet2/0', 'Loopback0']</td>\n      <td>['18.18.18.18']</td>\n    </tr>\n  </tbody>\n</table>\n</div>"
     },
     "metadata": {},
     "execution_count": 7
    }
   ],
   "source": [
    "# To extract only a subset of properties, use the properties parameter\n",
    "node_properties_trunc = bfq.nodeProperties(nodes=\"/border/\", properties=\"Domain_Name,NTP_Servers,Interfaces\").answer().frame()\n",
    "\n",
    "node_properties_trunc"
   ]
  },
  {
   "source": [
    "## Interface properties"
   ],
   "cell_type": "markdown",
   "metadata": {}
  },
  {
   "cell_type": "code",
   "execution_count": 8,
   "metadata": {},
   "outputs": [],
   "source": [
    "interface_properties = bfq.interfaceProperties(nodes=\"/border/\", properties=\"Bandwidth,VRF,Primary_Address\").answer().frame()"
   ]
  },
  {
   "cell_type": "code",
   "execution_count": 9,
   "metadata": {},
   "outputs": [
    {
     "output_type": "execute_result",
     "data": {
      "text/plain": [
       "                     Interface Bandwidth Primary_Address      VRF\n",
       "8  border1[GigabitEthernet0/0]     1e+09   10.12.11.2/24  default"
      ],
      "text/html": "<div>\n<style scoped>\n    .dataframe tbody tr th:only-of-type {\n        vertical-align: middle;\n    }\n\n    .dataframe tbody tr th {\n        vertical-align: top;\n    }\n\n    .dataframe thead th {\n        text-align: right;\n    }\n</style>\n<table border=\"1\" class=\"dataframe tex2jax_ignore\">\n  <thead>\n    <tr style=\"text-align: right;\">\n      <th></th>\n      <th>Interface</th>\n      <th>Bandwidth</th>\n      <th>Primary_Address</th>\n      <th>VRF</th>\n    </tr>\n  </thead>\n  <tbody>\n    <tr>\n      <th>8</th>\n      <td>border1[GigabitEthernet0/0]</td>\n      <td>1e+09</td>\n      <td>10.12.11.2/24</td>\n      <td>default</td>\n    </tr>\n  </tbody>\n</table>\n</div>"
     },
     "metadata": {},
     "execution_count": 9
    }
   ],
   "source": [
    "interface_properties[interface_properties['Primary_Address'].str.match(\"10.12\", na=False)]"
   ]
  },
  {
   "source": [
    "## Network adjacencies"
   ],
   "cell_type": "markdown",
   "metadata": {}
  },
  {
   "cell_type": "code",
   "execution_count": 10,
   "metadata": {},
   "outputs": [
    {
     "output_type": "execute_result",
     "data": {
      "text/plain": [
       "       Node          IP Interface AS_Number Remote_Node   Remote_IP  \\\n",
       "0   border2     2.1.1.2      None         2       core2     2.1.2.2   \n",
       "1     leaf1  2.34.201.4      None     65001      spine2  2.34.201.3   \n",
       "2     core1     2.1.2.1      None         2     border2     2.1.1.2   \n",
       "3     core1     2.1.2.1      None         2     border1     2.1.1.1   \n",
       "4     core1     2.1.2.1      None         2      spine2     2.1.3.2   \n",
       "5   border1     2.1.1.1      None         2       core2     2.1.2.2   \n",
       "6    spine2     2.1.3.2      None         2       core2     2.1.2.2   \n",
       "7    spine1  2.34.101.3      None         2       leaf1  2.34.101.4   \n",
       "8    spine2  2.34.201.3      None         2       leaf1  2.34.201.4   \n",
       "9     core2     2.1.2.2      None         2      spine1     2.1.3.1   \n",
       "10  border1     2.1.1.1      None         2       core1     2.1.2.1   \n",
       "11  border2     2.1.1.2      None         2       core1     2.1.2.1   \n",
       "12    core2     2.1.2.2      None         2      spine2     2.1.3.2   \n",
       "13    core2     2.1.2.2      None         2     border1     2.1.1.1   \n",
       "14    leaf1  2.34.101.4      None     65001      spine1  2.34.101.3   \n",
       "15   spine2     2.1.3.2      None         2       core1     2.1.2.1   \n",
       "16   spine1     2.1.3.1      None         2       core1     2.1.2.1   \n",
       "17   spine1     2.1.3.1      None         2       core2     2.1.2.2   \n",
       "18    core1     2.1.2.1      None         2      spine1     2.1.3.1   \n",
       "19    core2     2.1.2.2      None         2     border2     2.1.1.2   \n",
       "\n",
       "   Remote_Interface Remote_AS_Number  \n",
       "0              None                2  \n",
       "1              None                2  \n",
       "2              None                2  \n",
       "3              None                2  \n",
       "4              None                2  \n",
       "5              None                2  \n",
       "6              None                2  \n",
       "7              None            65001  \n",
       "8              None            65001  \n",
       "9              None                2  \n",
       "10             None                2  \n",
       "11             None                2  \n",
       "12             None                2  \n",
       "13             None                2  \n",
       "14             None                2  \n",
       "15             None                2  \n",
       "16             None                2  \n",
       "17             None                2  \n",
       "18             None                2  \n",
       "19             None                2  "
      ],
      "text/html": "<div>\n<style scoped>\n    .dataframe tbody tr th:only-of-type {\n        vertical-align: middle;\n    }\n\n    .dataframe tbody tr th {\n        vertical-align: top;\n    }\n\n    .dataframe thead th {\n        text-align: right;\n    }\n</style>\n<table border=\"1\" class=\"dataframe tex2jax_ignore\">\n  <thead>\n    <tr style=\"text-align: right;\">\n      <th></th>\n      <th>Node</th>\n      <th>IP</th>\n      <th>Interface</th>\n      <th>AS_Number</th>\n      <th>Remote_Node</th>\n      <th>Remote_IP</th>\n      <th>Remote_Interface</th>\n      <th>Remote_AS_Number</th>\n    </tr>\n  </thead>\n  <tbody>\n    <tr>\n      <th>0</th>\n      <td>border2</td>\n      <td>2.1.1.2</td>\n      <td>None</td>\n      <td>2</td>\n      <td>core2</td>\n      <td>2.1.2.2</td>\n      <td>None</td>\n      <td>2</td>\n    </tr>\n    <tr>\n      <th>1</th>\n      <td>leaf1</td>\n      <td>2.34.201.4</td>\n      <td>None</td>\n      <td>65001</td>\n      <td>spine2</td>\n      <td>2.34.201.3</td>\n      <td>None</td>\n      <td>2</td>\n    </tr>\n    <tr>\n      <th>2</th>\n      <td>core1</td>\n      <td>2.1.2.1</td>\n      <td>None</td>\n      <td>2</td>\n      <td>border2</td>\n      <td>2.1.1.2</td>\n      <td>None</td>\n      <td>2</td>\n    </tr>\n    <tr>\n      <th>3</th>\n      <td>core1</td>\n      <td>2.1.2.1</td>\n      <td>None</td>\n      <td>2</td>\n      <td>border1</td>\n      <td>2.1.1.1</td>\n      <td>None</td>\n      <td>2</td>\n    </tr>\n    <tr>\n      <th>4</th>\n      <td>core1</td>\n      <td>2.1.2.1</td>\n      <td>None</td>\n      <td>2</td>\n      <td>spine2</td>\n      <td>2.1.3.2</td>\n      <td>None</td>\n      <td>2</td>\n    </tr>\n    <tr>\n      <th>5</th>\n      <td>border1</td>\n      <td>2.1.1.1</td>\n      <td>None</td>\n      <td>2</td>\n      <td>core2</td>\n      <td>2.1.2.2</td>\n      <td>None</td>\n      <td>2</td>\n    </tr>\n    <tr>\n      <th>6</th>\n      <td>spine2</td>\n      <td>2.1.3.2</td>\n      <td>None</td>\n      <td>2</td>\n      <td>core2</td>\n      <td>2.1.2.2</td>\n      <td>None</td>\n      <td>2</td>\n    </tr>\n    <tr>\n      <th>7</th>\n      <td>spine1</td>\n      <td>2.34.101.3</td>\n      <td>None</td>\n      <td>2</td>\n      <td>leaf1</td>\n      <td>2.34.101.4</td>\n      <td>None</td>\n      <td>65001</td>\n    </tr>\n    <tr>\n      <th>8</th>\n      <td>spine2</td>\n      <td>2.34.201.3</td>\n      <td>None</td>\n      <td>2</td>\n      <td>leaf1</td>\n      <td>2.34.201.4</td>\n      <td>None</td>\n      <td>65001</td>\n    </tr>\n    <tr>\n      <th>9</th>\n      <td>core2</td>\n      <td>2.1.2.2</td>\n      <td>None</td>\n      <td>2</td>\n      <td>spine1</td>\n      <td>2.1.3.1</td>\n      <td>None</td>\n      <td>2</td>\n    </tr>\n    <tr>\n      <th>10</th>\n      <td>border1</td>\n      <td>2.1.1.1</td>\n      <td>None</td>\n      <td>2</td>\n      <td>core1</td>\n      <td>2.1.2.1</td>\n      <td>None</td>\n      <td>2</td>\n    </tr>\n    <tr>\n      <th>11</th>\n      <td>border2</td>\n      <td>2.1.1.2</td>\n      <td>None</td>\n      <td>2</td>\n      <td>core1</td>\n      <td>2.1.2.1</td>\n      <td>None</td>\n      <td>2</td>\n    </tr>\n    <tr>\n      <th>12</th>\n      <td>core2</td>\n      <td>2.1.2.2</td>\n      <td>None</td>\n      <td>2</td>\n      <td>spine2</td>\n      <td>2.1.3.2</td>\n      <td>None</td>\n      <td>2</td>\n    </tr>\n    <tr>\n      <th>13</th>\n      <td>core2</td>\n      <td>2.1.2.2</td>\n      <td>None</td>\n      <td>2</td>\n      <td>border1</td>\n      <td>2.1.1.1</td>\n      <td>None</td>\n      <td>2</td>\n    </tr>\n    <tr>\n      <th>14</th>\n      <td>leaf1</td>\n      <td>2.34.101.4</td>\n      <td>None</td>\n      <td>65001</td>\n      <td>spine1</td>\n      <td>2.34.101.3</td>\n      <td>None</td>\n      <td>2</td>\n    </tr>\n    <tr>\n      <th>15</th>\n      <td>spine2</td>\n      <td>2.1.3.2</td>\n      <td>None</td>\n      <td>2</td>\n      <td>core1</td>\n      <td>2.1.2.1</td>\n      <td>None</td>\n      <td>2</td>\n    </tr>\n    <tr>\n      <th>16</th>\n      <td>spine1</td>\n      <td>2.1.3.1</td>\n      <td>None</td>\n      <td>2</td>\n      <td>core1</td>\n      <td>2.1.2.1</td>\n      <td>None</td>\n      <td>2</td>\n    </tr>\n    <tr>\n      <th>17</th>\n      <td>spine1</td>\n      <td>2.1.3.1</td>\n      <td>None</td>\n      <td>2</td>\n      <td>core2</td>\n      <td>2.1.2.2</td>\n      <td>None</td>\n      <td>2</td>\n    </tr>\n    <tr>\n      <th>18</th>\n      <td>core1</td>\n      <td>2.1.2.1</td>\n      <td>None</td>\n      <td>2</td>\n      <td>spine1</td>\n      <td>2.1.3.1</td>\n      <td>None</td>\n      <td>2</td>\n    </tr>\n    <tr>\n      <th>19</th>\n      <td>core2</td>\n      <td>2.1.2.2</td>\n      <td>None</td>\n      <td>2</td>\n      <td>border2</td>\n      <td>2.1.1.2</td>\n      <td>None</td>\n      <td>2</td>\n    </tr>\n  </tbody>\n</table>\n</div>"
     },
     "metadata": {},
     "execution_count": 10
    }
   ],
   "source": [
    "edge = bfq.edges(edgeType=\"bgp\").answer().frame()\n",
    "edge"
   ]
  },
  {
   "source": [
    "## Routing"
   ],
   "cell_type": "markdown",
   "metadata": {}
  },
  {
   "cell_type": "code",
   "execution_count": 11,
   "metadata": {},
   "outputs": [
    {
     "output_type": "stream",
     "name": "stderr",
     "text": [
      "<ipython-input-11-465fb7391ba6>:2: UserWarning: Boolean Series key will be reindexed to match DataFrame index.\n  routes_df[routes_df['Node']=='border1'][routes_df['Protocol']=='connected']\n"
     ]
    },
    {
     "output_type": "execute_result",
     "data": {
      "text/plain": [
       "        Node      VRF        Network Next_Hop     Next_Hop_IP  \\\n",
       "19   border1  default     2.1.1.1/32     None  AUTO/NONE(-1l)   \n",
       "50   border1  default   2.12.11.0/24     None  AUTO/NONE(-1l)   \n",
       "127  border1  default  10.12.11.0/24     None  AUTO/NONE(-1l)   \n",
       "132  border1  default   2.12.12.0/24     None  AUTO/NONE(-1l)   \n",
       "\n",
       "     Next_Hop_Interface   Protocol Metric Admin_Distance   Tag  \n",
       "19            Loopback0  connected      0              0  None  \n",
       "50   GigabitEthernet1/0  connected      0              0  None  \n",
       "127  GigabitEthernet0/0  connected      0              0  None  \n",
       "132  GigabitEthernet2/0  connected      0              0  None  "
      ],
      "text/html": "<div>\n<style scoped>\n    .dataframe tbody tr th:only-of-type {\n        vertical-align: middle;\n    }\n\n    .dataframe tbody tr th {\n        vertical-align: top;\n    }\n\n    .dataframe thead th {\n        text-align: right;\n    }\n</style>\n<table border=\"1\" class=\"dataframe tex2jax_ignore\">\n  <thead>\n    <tr style=\"text-align: right;\">\n      <th></th>\n      <th>Node</th>\n      <th>VRF</th>\n      <th>Network</th>\n      <th>Next_Hop</th>\n      <th>Next_Hop_IP</th>\n      <th>Next_Hop_Interface</th>\n      <th>Protocol</th>\n      <th>Metric</th>\n      <th>Admin_Distance</th>\n      <th>Tag</th>\n    </tr>\n  </thead>\n  <tbody>\n    <tr>\n      <th>19</th>\n      <td>border1</td>\n      <td>default</td>\n      <td>2.1.1.1/32</td>\n      <td>None</td>\n      <td>AUTO/NONE(-1l)</td>\n      <td>Loopback0</td>\n      <td>connected</td>\n      <td>0</td>\n      <td>0</td>\n      <td>None</td>\n    </tr>\n    <tr>\n      <th>50</th>\n      <td>border1</td>\n      <td>default</td>\n      <td>2.12.11.0/24</td>\n      <td>None</td>\n      <td>AUTO/NONE(-1l)</td>\n      <td>GigabitEthernet1/0</td>\n      <td>connected</td>\n      <td>0</td>\n      <td>0</td>\n      <td>None</td>\n    </tr>\n    <tr>\n      <th>127</th>\n      <td>border1</td>\n      <td>default</td>\n      <td>10.12.11.0/24</td>\n      <td>None</td>\n      <td>AUTO/NONE(-1l)</td>\n      <td>GigabitEthernet0/0</td>\n      <td>connected</td>\n      <td>0</td>\n      <td>0</td>\n      <td>None</td>\n    </tr>\n    <tr>\n      <th>132</th>\n      <td>border1</td>\n      <td>default</td>\n      <td>2.12.12.0/24</td>\n      <td>None</td>\n      <td>AUTO/NONE(-1l)</td>\n      <td>GigabitEthernet2/0</td>\n      <td>connected</td>\n      <td>0</td>\n      <td>0</td>\n      <td>None</td>\n    </tr>\n  </tbody>\n</table>\n</div>"
     },
     "metadata": {},
     "execution_count": 11
    }
   ],
   "source": [
    "routes_df = bfq.routes().answer().frame()\n",
    "routes_df[routes_df['Node']=='border1'][routes_df['Protocol']=='connected']"
   ]
  },
  {
   "source": [
    "## Forward change "
   ],
   "cell_type": "markdown",
   "metadata": {}
  },
  {
   "cell_type": "code",
   "execution_count": 12,
   "metadata": {},
   "outputs": [
    {
     "output_type": "display_data",
     "data": {
      "text/plain": "                                                                                            Flow  \\\n0  start=border1 interface=GigabitEthernet0/0 [10.12.11.1:49152->2.128.0.1:33434 UDP length=512]   \n1  start=border2 interface=GigabitEthernet0/0 [10.23.21.1:49152->2.128.0.1:33434 UDP length=512]   \n\n                                                                                                                                                                                                                                                                                                                                                                                                                                                                                                                                                                                                                                                                                                                                                                                                                                                                                                                                                                                                                                 Traces  \\\n0  [((RECEIVED(GigabitEthernet0/0), PERMITTED(OUTSIDE_TO_INSIDE (INGRESS_FILTER)), FORWARDED(ARP IP: 2.12.11.2, Output Interface: GigabitEthernet1/0, Routes: [ibgp (Network: 2.128.0.0/30, Next Hop IP:2.34.201.4)]), TRANSMITTED(GigabitEthernet1/0)), (RECEIVED(GigabitEthernet0/0), FORWARDED(ARP IP: 2.23.12.3, Output Interface: GigabitEthernet3/0, Routes: [ibgp (Network: 2.128.0.0/30, Next Hop IP:2.34.201.4)]), TRANSMITTED(GigabitEthernet3/0)), (RECEIVED(GigabitEthernet1/0), FORWARDED(ARP IP: 2.34.201.4, Output Interface: GigabitEthernet2/0, Routes: [bgp (Network: 2.128.0.0/30, Next Hop IP:2.34.201.4)]), TRANSMITTED(GigabitEthernet2/0)), (RECEIVED(GigabitEthernet1/0), PERMITTED(RESTRICT_NETWORK_TRAFFIC_IN (INGRESS_FILTER)), FORWARDED(ARP IP: AUTO/NONE(-1l), Output Interface: GigabitEthernet2/0, Routes: [connected (Network: 2.128.0.0/30, Next Hop IP:AUTO/NONE(-1l))]), PERMITTED(RESTRICT_HOST_TRAFFIC_OUT (EGRESS_FILTER)), TRANSMITTED(GigabitEthernet2/0)), (RECEIVED(eth0), ACCEPTED(eth0)))]   \n1  [((RECEIVED(GigabitEthernet0/0), PERMITTED(OUTSIDE_TO_INSIDE (INGRESS_FILTER)), FORWARDED(ARP IP: 2.12.21.2, Output Interface: GigabitEthernet2/0, Routes: [ibgp (Network: 2.128.0.0/30, Next Hop IP:2.34.201.4)]), TRANSMITTED(GigabitEthernet2/0)), (RECEIVED(GigabitEthernet1/0), FORWARDED(ARP IP: 2.23.12.3, Output Interface: GigabitEthernet3/0, Routes: [ibgp (Network: 2.128.0.0/30, Next Hop IP:2.34.201.4)]), TRANSMITTED(GigabitEthernet3/0)), (RECEIVED(GigabitEthernet1/0), FORWARDED(ARP IP: 2.34.201.4, Output Interface: GigabitEthernet2/0, Routes: [bgp (Network: 2.128.0.0/30, Next Hop IP:2.34.201.4)]), TRANSMITTED(GigabitEthernet2/0)), (RECEIVED(GigabitEthernet1/0), PERMITTED(RESTRICT_NETWORK_TRAFFIC_IN (INGRESS_FILTER)), FORWARDED(ARP IP: AUTO/NONE(-1l), Output Interface: GigabitEthernet2/0, Routes: [connected (Network: 2.128.0.0/30, Next Hop IP:AUTO/NONE(-1l))]), PERMITTED(RESTRICT_HOST_TRAFFIC_OUT (EGRESS_FILTER)), TRANSMITTED(GigabitEthernet2/0)), (RECEIVED(eth0), ACCEPTED(eth0)))]   \n\n  TraceCount  \n0          1  \n1          1  ",
      "text/html": "<style  type=\"text/css\" >\n#T_pybfstylerow0_col0,#T_pybfstylerow0_col1,#T_pybfstylerow0_col2,#T_pybfstylerow1_col0,#T_pybfstylerow1_col1,#T_pybfstylerow1_col2{\n            text-align:  left;\n            vertical-align:  top;\n        }</style><table id=\"T_pybfstyle\"  class=\"tex2jax_ignore\"><thead>    <tr>        <th class=\"blank level0\" ></th>        <th class=\"col_heading level0 col0\" >Flow</th>        <th class=\"col_heading level0 col1\" >Traces</th>        <th class=\"col_heading level0 col2\" >TraceCount</th>    </tr></thead><tbody>\n                <tr>\n                        <th id=\"T_pybfstylelevel0_row0\" class=\"row_heading level0 row0\" >0</th>\n                        <td id=\"T_pybfstylerow0_col0\" class=\"data row0 col0\" >Start Location: border1 interface=GigabitEthernet0/0<br>Src IP: 10.12.11.1<br>Src Port: 49152<br>Dst IP: 2.128.0.1<br>Dst Port: 33434<br>IP Protocol: UDP</td>\n                        <td id=\"T_pybfstylerow0_col1\" class=\"data row0 col1\" ><span style=\"color:#019612; text-weight:bold;\">ACCEPTED</span><br><strong>1</strong>. node: border1<br>&nbsp;&nbsp;RECEIVED(GigabitEthernet0/0)<br>&nbsp;&nbsp;PERMITTED(OUTSIDE_TO_INSIDE (INGRESS_FILTER))<br>&nbsp;&nbsp;FORWARDED(ARP IP: 2.12.11.2, Output Interface: GigabitEthernet1/0, Routes: [ibgp (Network: 2.128.0.0/30, Next Hop IP:2.34.201.4)])<br>&nbsp;&nbsp;TRANSMITTED(GigabitEthernet1/0)<br><strong>2</strong>. node: core1<br>&nbsp;&nbsp;RECEIVED(GigabitEthernet0/0)<br>&nbsp;&nbsp;FORWARDED(ARP IP: 2.23.12.3, Output Interface: GigabitEthernet3/0, Routes: [ibgp (Network: 2.128.0.0/30, Next Hop IP:2.34.201.4)])<br>&nbsp;&nbsp;TRANSMITTED(GigabitEthernet3/0)<br><strong>3</strong>. node: spine2<br>&nbsp;&nbsp;RECEIVED(GigabitEthernet1/0)<br>&nbsp;&nbsp;FORWARDED(ARP IP: 2.34.201.4, Output Interface: GigabitEthernet2/0, Routes: [bgp (Network: 2.128.0.0/30, Next Hop IP:2.34.201.4)])<br>&nbsp;&nbsp;TRANSMITTED(GigabitEthernet2/0)<br><strong>4</strong>. node: leaf1<br>&nbsp;&nbsp;RECEIVED(GigabitEthernet1/0)<br>&nbsp;&nbsp;PERMITTED(RESTRICT_NETWORK_TRAFFIC_IN (INGRESS_FILTER))<br>&nbsp;&nbsp;FORWARDED(ARP IP: AUTO/NONE(-1l), Output Interface: GigabitEthernet2/0, Routes: [connected (Network: 2.128.0.0/30, Next Hop IP:AUTO/NONE(-1l))])<br>&nbsp;&nbsp;PERMITTED(RESTRICT_HOST_TRAFFIC_OUT (EGRESS_FILTER))<br>&nbsp;&nbsp;TRANSMITTED(GigabitEthernet2/0)<br><strong>5</strong>. node: host-db<br>&nbsp;&nbsp;RECEIVED(eth0)<br>&nbsp;&nbsp;ACCEPTED(eth0)</td>\n                        <td id=\"T_pybfstylerow0_col2\" class=\"data row0 col2\" >1</td>\n            </tr>\n            <tr>\n                        <th id=\"T_pybfstylelevel0_row1\" class=\"row_heading level0 row1\" >1</th>\n                        <td id=\"T_pybfstylerow1_col0\" class=\"data row1 col0\" >Start Location: border2 interface=GigabitEthernet0/0<br>Src IP: 10.23.21.1<br>Src Port: 49152<br>Dst IP: 2.128.0.1<br>Dst Port: 33434<br>IP Protocol: UDP</td>\n                        <td id=\"T_pybfstylerow1_col1\" class=\"data row1 col1\" ><span style=\"color:#019612; text-weight:bold;\">ACCEPTED</span><br><strong>1</strong>. node: border2<br>&nbsp;&nbsp;RECEIVED(GigabitEthernet0/0)<br>&nbsp;&nbsp;PERMITTED(OUTSIDE_TO_INSIDE (INGRESS_FILTER))<br>&nbsp;&nbsp;FORWARDED(ARP IP: 2.12.21.2, Output Interface: GigabitEthernet2/0, Routes: [ibgp (Network: 2.128.0.0/30, Next Hop IP:2.34.201.4)])<br>&nbsp;&nbsp;TRANSMITTED(GigabitEthernet2/0)<br><strong>2</strong>. node: core1<br>&nbsp;&nbsp;RECEIVED(GigabitEthernet1/0)<br>&nbsp;&nbsp;FORWARDED(ARP IP: 2.23.12.3, Output Interface: GigabitEthernet3/0, Routes: [ibgp (Network: 2.128.0.0/30, Next Hop IP:2.34.201.4)])<br>&nbsp;&nbsp;TRANSMITTED(GigabitEthernet3/0)<br><strong>3</strong>. node: spine2<br>&nbsp;&nbsp;RECEIVED(GigabitEthernet1/0)<br>&nbsp;&nbsp;FORWARDED(ARP IP: 2.34.201.4, Output Interface: GigabitEthernet2/0, Routes: [bgp (Network: 2.128.0.0/30, Next Hop IP:2.34.201.4)])<br>&nbsp;&nbsp;TRANSMITTED(GigabitEthernet2/0)<br><strong>4</strong>. node: leaf1<br>&nbsp;&nbsp;RECEIVED(GigabitEthernet1/0)<br>&nbsp;&nbsp;PERMITTED(RESTRICT_NETWORK_TRAFFIC_IN (INGRESS_FILTER))<br>&nbsp;&nbsp;FORWARDED(ARP IP: AUTO/NONE(-1l), Output Interface: GigabitEthernet2/0, Routes: [connected (Network: 2.128.0.0/30, Next Hop IP:AUTO/NONE(-1l))])<br>&nbsp;&nbsp;PERMITTED(RESTRICT_HOST_TRAFFIC_OUT (EGRESS_FILTER))<br>&nbsp;&nbsp;TRANSMITTED(GigabitEthernet2/0)<br><strong>5</strong>. node: host-db<br>&nbsp;&nbsp;RECEIVED(eth0)<br>&nbsp;&nbsp;ACCEPTED(eth0)</td>\n                        <td id=\"T_pybfstylerow1_col2\" class=\"data row1 col2\" >1</td>\n            </tr>\n    </tbody></table>"
     },
     "metadata": {}
    }
   ],
   "source": [
    "answer = bfq.traceroute(\n",
    "    startLocation=\"@enter(/border/[GigabitEthernet0/0])\",\n",
    "    headers=HeaderConstraints(dstIps=\"/host/\")\n",
    ").answer()\n",
    "show(answer.frame())"
   ]
  },
  {
   "cell_type": "code",
   "execution_count": 13,
   "metadata": {},
   "outputs": [
    {
     "output_type": "display_data",
     "data": {
      "text/plain": "                                                                                            Flow  \\\n0  start=border1 interface=GigabitEthernet0/0 [10.12.11.1:49152->2.128.1.1:33434 UDP length=512]   \n1  start=border2 interface=GigabitEthernet0/0 [10.23.21.1:49152->2.128.1.1:33434 UDP length=512]   \n\n                                                                                                                                                                                                                                                                                                                                                                                                                                                                                                                                                                                                                                                                                                                                                                                                                                                                                                                                                                                                                                 Traces  \\\n0  [((RECEIVED(GigabitEthernet0/0), PERMITTED(OUTSIDE_TO_INSIDE (INGRESS_FILTER)), FORWARDED(ARP IP: 2.12.11.2, Output Interface: GigabitEthernet1/0, Routes: [ibgp (Network: 2.128.1.0/30, Next Hop IP:2.34.201.4)]), TRANSMITTED(GigabitEthernet1/0)), (RECEIVED(GigabitEthernet0/0), FORWARDED(ARP IP: 2.23.12.3, Output Interface: GigabitEthernet3/0, Routes: [ibgp (Network: 2.128.1.0/30, Next Hop IP:2.34.201.4)]), TRANSMITTED(GigabitEthernet3/0)), (RECEIVED(GigabitEthernet1/0), FORWARDED(ARP IP: 2.34.201.4, Output Interface: GigabitEthernet2/0, Routes: [bgp (Network: 2.128.1.0/30, Next Hop IP:2.34.201.4)]), TRANSMITTED(GigabitEthernet2/0)), (RECEIVED(GigabitEthernet1/0), PERMITTED(RESTRICT_NETWORK_TRAFFIC_IN (INGRESS_FILTER)), FORWARDED(ARP IP: AUTO/NONE(-1l), Output Interface: GigabitEthernet3/0, Routes: [connected (Network: 2.128.1.0/30, Next Hop IP:AUTO/NONE(-1l))]), PERMITTED(RESTRICT_HOST_TRAFFIC_OUT (EGRESS_FILTER)), TRANSMITTED(GigabitEthernet3/0)), (RECEIVED(eth0), ACCEPTED(eth0)))]   \n1  [((RECEIVED(GigabitEthernet0/0), PERMITTED(OUTSIDE_TO_INSIDE (INGRESS_FILTER)), FORWARDED(ARP IP: 2.12.21.2, Output Interface: GigabitEthernet2/0, Routes: [ibgp (Network: 2.128.1.0/30, Next Hop IP:2.34.201.4)]), TRANSMITTED(GigabitEthernet2/0)), (RECEIVED(GigabitEthernet1/0), FORWARDED(ARP IP: 2.23.12.3, Output Interface: GigabitEthernet3/0, Routes: [ibgp (Network: 2.128.1.0/30, Next Hop IP:2.34.201.4)]), TRANSMITTED(GigabitEthernet3/0)), (RECEIVED(GigabitEthernet1/0), FORWARDED(ARP IP: 2.34.201.4, Output Interface: GigabitEthernet2/0, Routes: [bgp (Network: 2.128.1.0/30, Next Hop IP:2.34.201.4)]), TRANSMITTED(GigabitEthernet2/0)), (RECEIVED(GigabitEthernet1/0), PERMITTED(RESTRICT_NETWORK_TRAFFIC_IN (INGRESS_FILTER)), FORWARDED(ARP IP: AUTO/NONE(-1l), Output Interface: GigabitEthernet3/0, Routes: [connected (Network: 2.128.1.0/30, Next Hop IP:AUTO/NONE(-1l))]), PERMITTED(RESTRICT_HOST_TRAFFIC_OUT (EGRESS_FILTER)), TRANSMITTED(GigabitEthernet3/0)), (RECEIVED(eth0), ACCEPTED(eth0)))]   \n\n  TraceCount  \n0          1  \n1          1  ",
      "text/html": "<style  type=\"text/css\" >\n#T_pybfstylerow0_col0,#T_pybfstylerow0_col1,#T_pybfstylerow0_col2,#T_pybfstylerow1_col0,#T_pybfstylerow1_col1,#T_pybfstylerow1_col2{\n            text-align:  left;\n            vertical-align:  top;\n        }</style><table id=\"T_pybfstyle\"  class=\"tex2jax_ignore\"><thead>    <tr>        <th class=\"blank level0\" ></th>        <th class=\"col_heading level0 col0\" >Flow</th>        <th class=\"col_heading level0 col1\" >Traces</th>        <th class=\"col_heading level0 col2\" >TraceCount</th>    </tr></thead><tbody>\n                <tr>\n                        <th id=\"T_pybfstylelevel0_row0\" class=\"row_heading level0 row0\" >0</th>\n                        <td id=\"T_pybfstylerow0_col0\" class=\"data row0 col0\" >Start Location: border1 interface=GigabitEthernet0/0<br>Src IP: 10.12.11.1<br>Src Port: 49152<br>Dst IP: 2.128.1.1<br>Dst Port: 33434<br>IP Protocol: UDP</td>\n                        <td id=\"T_pybfstylerow0_col1\" class=\"data row0 col1\" ><span style=\"color:#019612; text-weight:bold;\">ACCEPTED</span><br><strong>1</strong>. node: border1<br>&nbsp;&nbsp;RECEIVED(GigabitEthernet0/0)<br>&nbsp;&nbsp;PERMITTED(OUTSIDE_TO_INSIDE (INGRESS_FILTER))<br>&nbsp;&nbsp;FORWARDED(ARP IP: 2.12.11.2, Output Interface: GigabitEthernet1/0, Routes: [ibgp (Network: 2.128.1.0/30, Next Hop IP:2.34.201.4)])<br>&nbsp;&nbsp;TRANSMITTED(GigabitEthernet1/0)<br><strong>2</strong>. node: core1<br>&nbsp;&nbsp;RECEIVED(GigabitEthernet0/0)<br>&nbsp;&nbsp;FORWARDED(ARP IP: 2.23.12.3, Output Interface: GigabitEthernet3/0, Routes: [ibgp (Network: 2.128.1.0/30, Next Hop IP:2.34.201.4)])<br>&nbsp;&nbsp;TRANSMITTED(GigabitEthernet3/0)<br><strong>3</strong>. node: spine2<br>&nbsp;&nbsp;RECEIVED(GigabitEthernet1/0)<br>&nbsp;&nbsp;FORWARDED(ARP IP: 2.34.201.4, Output Interface: GigabitEthernet2/0, Routes: [bgp (Network: 2.128.1.0/30, Next Hop IP:2.34.201.4)])<br>&nbsp;&nbsp;TRANSMITTED(GigabitEthernet2/0)<br><strong>4</strong>. node: leaf1<br>&nbsp;&nbsp;RECEIVED(GigabitEthernet1/0)<br>&nbsp;&nbsp;PERMITTED(RESTRICT_NETWORK_TRAFFIC_IN (INGRESS_FILTER))<br>&nbsp;&nbsp;FORWARDED(ARP IP: AUTO/NONE(-1l), Output Interface: GigabitEthernet3/0, Routes: [connected (Network: 2.128.1.0/30, Next Hop IP:AUTO/NONE(-1l))])<br>&nbsp;&nbsp;PERMITTED(RESTRICT_HOST_TRAFFIC_OUT (EGRESS_FILTER))<br>&nbsp;&nbsp;TRANSMITTED(GigabitEthernet3/0)<br><strong>5</strong>. node: host-www<br>&nbsp;&nbsp;RECEIVED(eth0)<br>&nbsp;&nbsp;ACCEPTED(eth0)</td>\n                        <td id=\"T_pybfstylerow0_col2\" class=\"data row0 col2\" >1</td>\n            </tr>\n            <tr>\n                        <th id=\"T_pybfstylelevel0_row1\" class=\"row_heading level0 row1\" >1</th>\n                        <td id=\"T_pybfstylerow1_col0\" class=\"data row1 col0\" >Start Location: border2 interface=GigabitEthernet0/0<br>Src IP: 10.23.21.1<br>Src Port: 49152<br>Dst IP: 2.128.1.1<br>Dst Port: 33434<br>IP Protocol: UDP</td>\n                        <td id=\"T_pybfstylerow1_col1\" class=\"data row1 col1\" ><span style=\"color:#019612; text-weight:bold;\">ACCEPTED</span><br><strong>1</strong>. node: border2<br>&nbsp;&nbsp;RECEIVED(GigabitEthernet0/0)<br>&nbsp;&nbsp;PERMITTED(OUTSIDE_TO_INSIDE (INGRESS_FILTER))<br>&nbsp;&nbsp;FORWARDED(ARP IP: 2.12.21.2, Output Interface: GigabitEthernet2/0, Routes: [ibgp (Network: 2.128.1.0/30, Next Hop IP:2.34.201.4)])<br>&nbsp;&nbsp;TRANSMITTED(GigabitEthernet2/0)<br><strong>2</strong>. node: core1<br>&nbsp;&nbsp;RECEIVED(GigabitEthernet1/0)<br>&nbsp;&nbsp;FORWARDED(ARP IP: 2.23.12.3, Output Interface: GigabitEthernet3/0, Routes: [ibgp (Network: 2.128.1.0/30, Next Hop IP:2.34.201.4)])<br>&nbsp;&nbsp;TRANSMITTED(GigabitEthernet3/0)<br><strong>3</strong>. node: spine2<br>&nbsp;&nbsp;RECEIVED(GigabitEthernet1/0)<br>&nbsp;&nbsp;FORWARDED(ARP IP: 2.34.201.4, Output Interface: GigabitEthernet2/0, Routes: [bgp (Network: 2.128.1.0/30, Next Hop IP:2.34.201.4)])<br>&nbsp;&nbsp;TRANSMITTED(GigabitEthernet2/0)<br><strong>4</strong>. node: leaf1<br>&nbsp;&nbsp;RECEIVED(GigabitEthernet1/0)<br>&nbsp;&nbsp;PERMITTED(RESTRICT_NETWORK_TRAFFIC_IN (INGRESS_FILTER))<br>&nbsp;&nbsp;FORWARDED(ARP IP: AUTO/NONE(-1l), Output Interface: GigabitEthernet3/0, Routes: [connected (Network: 2.128.1.0/30, Next Hop IP:AUTO/NONE(-1l))])<br>&nbsp;&nbsp;PERMITTED(RESTRICT_HOST_TRAFFIC_OUT (EGRESS_FILTER))<br>&nbsp;&nbsp;TRANSMITTED(GigabitEthernet3/0)<br><strong>5</strong>. node: host-www<br>&nbsp;&nbsp;RECEIVED(eth0)<br>&nbsp;&nbsp;ACCEPTED(eth0)</td>\n                        <td id=\"T_pybfstylerow1_col2\" class=\"data row1 col2\" >1</td>\n            </tr>\n    </tbody></table>"
     },
     "metadata": {}
    }
   ],
   "source": [
    "# Search for any traffic routed through core1\n",
    "answer = bfq.reachability(\n",
    "    pathConstraints=PathConstraints(\n",
    "        startLocation=\"@enter(/border/[GigabitEthernet0/0])\",\n",
    "        transitLocations=\"core1\"),\n",
    "    headers=HeaderConstraints(dstIps=\"/host-www/\"),\n",
    "    actions=\"SUCCESS,FAILURE\"\n",
    ").answer().frame()\n",
    "show(answer)"
   ]
  }
 ]
}